{
  "cells": [
    {
      "cell_type": "markdown",
      "metadata": {
        "id": "9PgscfJ97jnL"
      },
      "source": [
        "# Practical tasks using Cognite Python SDK\n",
        "In this section learner need to perform various tasks such as\n",
        "- Example dataset uploading and creation of various resource types\n",
        "- Retrieve, explore and update the data\n",
        "- Cleanup"
      ]
    },
    {
      "cell_type": "markdown",
      "metadata": {},
      "source": [
        "## Use-case and Data overview\n",
        "The data used in this section is downloaded from internet. It's the data about various countries.\n",
        "- First an asset hierarchy need to be created for mapping between Geographical regions and countries.\n",
        "- Then step by step various data from sources like World Bank, United Nations etc is added at a country level."
      ]
    },
    {
      "cell_type": "markdown",
      "metadata": {},
      "source": [
        "## 0. Create the Cognite Client\n",
        "The first step is to connect to Cognite Data Fusion. Use the Authentication script file from utils and create a cognite client."
      ]
    },
    {
      "cell_type": "markdown",
      "metadata": {
        "id": "CbyzxNDzGhqY"
      },
      "source": [
        "## 1. Create a dataset\n",
        "- Create a dataset with name such as \"world_info\" or \"global_info\". \n",
        "- Make sure it is write protected.\n",
        "- Get the dataset id of the dataset and save as `ds_id`"
      ]
    },
    {
      "cell_type": "markdown",
      "metadata": {},
      "source": [
        "## 2. Create the Asset Hierarchy"
      ]
    },
    {
      "cell_type": "markdown",
      "metadata": {},
      "source": [
        "- Obtain the United Nations Location Codes data from this URL https://github.com/lukes/ISO-3166-Countries-with-Regional-Codes/blob/master/all/all.csv\n",
        "- Read the csv file in a datarame in notebook (e.g. world_df ).\n",
        "- Create a Root Asset called \"world\" with proper description and associate it with the dataset using ds_id.\n",
        "- After creating the root asset, update the Name of the Asset.( Change it to \"Global\" or \"my_world\" )\n",
        "- Get the list of the the regions from the world_df and create Region level assets under Root asset.\n",
        "- Next, Get the list of Country & Region pairs from the world_df and create the country level assets under each region asset.\n",
        "- Finally, Use the code or Go to CDF UI, To verify if the asset hierarchy is created as defined in above steps.\n"
      ]
    },
    {
      "cell_type": "markdown",
      "metadata": {},
      "source": [
        "Note : If the required assets are already created in the tenant, then it's better to add a unique prefix or suffix to the external_ids & names to distinguish and avoid the duplicated errors."
      ]
    },
    {
      "cell_type": "markdown",
      "metadata": {
        "id": "clWTbX-xLmS3"
      },
      "source": [
        "## 3. Add Data for each country"
      ]
    },
    {
      "cell_type": "markdown",
      "metadata": {
        "id": "xs_zjmr0DZUY"
      },
      "source": [
        "### 3.1 Add timeseries\n",
        "- Get the World Population Data over the years https://data.worldbank.org/indicator/SP.POP.TOTL\n",
        "using worldbank API (wbgapi) package. ( You can decide the duration e.g. take last 20 years i.e. 2000-2020)\n",
        "- Create the population timeseries for each country asset and Insert the data from world bank in those timeseries."
      ]
    },
    {
      "cell_type": "markdown",
      "metadata": {
        "id": "pRMoyu9RKrXA"
      },
      "source": [
        "### 3.2 Add some files"
      ]
    },
    {
      "cell_type": "markdown",
      "metadata": {
        "id": "CJC93PAA5rsh"
      },
      "source": [
        "- PDF Files data for each country by UN https://unctadstat.unctad.org/CountryProfile/GeneralProfile/en-GB/012/index.html\n",
        "- Get the PDF files by passing the Country Code( 3 digit code ) to this URL\n",
        "https://unctadstat.unctad.org/CountryProfile/GeneralProfile/en-GB/{CountryCode}/GeneralProfile{CountryCode}.pdf\n",
        "- Upload the files for each country under it's own asset. Also specify the dataset ID. ( Upload 10-20 files, no need to upload for all the countries)"
      ]
    },
    {
      "cell_type": "markdown",
      "metadata": {},
      "source": [
        "Downloading files with code might require a bit of web scrapping code, but you can also do manually for some countries."
      ]
    },
    {
      "cell_type": "markdown",
      "metadata": {
        "id": "hksnL_UiKwMk"
      },
      "source": [
        "### 3.3 Add events"
      ]
    },
    {
      "cell_type": "markdown",
      "metadata": {
        "id": "fAN7I9F-EHiQ"
      },
      "source": [
        "- Events data e.g. All disasters by Country https://public.emdat.be/data\n",
        "- Create an account and download the latest data from the above URL.\n",
        "- Download all types of events in the whole world.\n",
        "- Read the downloaded excel file in notebook.\n",
        "- Create the events from this data, for each country. "
      ]
    },
    {
      "cell_type": "markdown",
      "metadata": {},
      "source": [
        "Note : A historical file of these events is available in data folder."
      ]
    },
    {
      "cell_type": "markdown",
      "metadata": {
        "id": "EzQe5KD2K0jz"
      },
      "source": [
        "### 3.4 Add Labels\n",
        "- Create labels such as \"Cold\" or \"Hot\" climate countries.\n",
        "- Apply these labels to some countries. (e.g. Cold to \"Canada\", \"Norway\"  & Hot to \"Ghana\",\"Qatar\")"
      ]
    },
    {
      "cell_type": "markdown",
      "metadata": {},
      "source": [
        "## 4. Retrieve Data\n",
        "Retrieve the population time series data for some countries and plot it."
      ]
    },
    {
      "cell_type": "markdown",
      "metadata": {
        "id": "Qhg45JDcMcAS"
      },
      "source": [
        "## 5. Final Task:  Delete the data ( Cleanup )\n",
        "In this step, you need to delete everything which you've added in the previous steps or tasks.\n",
        "- First delete the root asset, then delete all the subtree asssets.\n",
        "- Verify, that for the given dataset (\"world_info\"), there are no assets left or exists.\n",
        "- Delete all the timeseries, labels, events, sequences etc created for each asset."
      ]
    }
  ],
  "metadata": {
    "colab": {
      "collapsed_sections": [],
      "name": "using-cognite-python-sdk.ipynb",
      "provenance": [],
      "toc_visible": true
    },
    "kernelspec": {
      "display_name": "Python 3.8.10 ('.venv': poetry)",
      "language": "python",
      "name": "python3"
    },
    "language_info": {
      "codemirror_mode": {
        "name": "ipython",
        "version": 3
      },
      "file_extension": ".py",
      "mimetype": "text/x-python",
      "name": "python",
      "nbconvert_exporter": "python",
      "pygments_lexer": "ipython3",
      "version": "3.8.10"
    },
    "vscode": {
      "interpreter": {
        "hash": "a91ca9ec7d99e670fac56e3349d369f0cfcf0e1d088f5d3a781425823b7f65f5"
      }
    }
  },
  "nbformat": 4,
  "nbformat_minor": 0
}
