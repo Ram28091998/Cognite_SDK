{
 "cells": [
  {
   "cell_type": "markdown",
   "metadata": {},
   "source": [
    "# Copyright 2022 Cognite AS\n",
    "\n",
    "## Import the Libraries and Modules"
   ]
  },
  {
   "cell_type": "code",
   "execution_count": 12,
   "metadata": {},
   "outputs": [],
   "source": [
    "import os\n",
    "import sys"
   ]
  },
  {
   "cell_type": "code",
   "execution_count": 13,
   "metadata": {},
   "outputs": [
    {
     "name": "stdout",
     "output_type": "stream",
     "text": [
      "/home/cram/dev/using-cognite-python-sdk/utils\n"
     ]
    }
   ],
   "source": [
    "module_path = os.path.abspath(os.path.join(\"../utils\"))\n",
    "print(module_path)\n",
    "if module_path not in sys.path:\n",
    "    sys.path.append(module_path)"
   ]
  },
  {
   "cell_type": "code",
   "execution_count": 14,
   "metadata": {},
   "outputs": [],
   "source": [
    "import auth as cauth"
   ]
  },
  {
   "cell_type": "markdown",
   "metadata": {},
   "source": [
    "## Create the Cognite Client"
   ]
  },
  {
   "cell_type": "code",
   "execution_count": 15,
   "metadata": {},
   "outputs": [
    {
     "name": "stderr",
     "output_type": "stream",
     "text": [
      "/home/cram/dev/using-cognite-python-sdk/.venv/lib/python3.8/site-packages/cognite/client/_cognite_client.py:85: UserWarning: You are using version 2.56.0 of the SDK, however version 2.56.1 is available. Upgrade or set the environment variable 'COGNITE_DISABLE_PYPI_VERSION_CHECK' to suppress this warning.\n",
      "  self._config = ClientConfig(\n"
     ]
    }
   ],
   "source": [
    "c = cauth.create_cognite_client(method=\"client-secret\")"
   ]
  },
  {
   "cell_type": "markdown",
   "metadata": {
    "id": "to6T4ull7hHW"
   },
   "source": [
    "## Delete the data in CDF"
   ]
  },
  {
   "cell_type": "markdown",
   "metadata": {
    "id": "0gyLyxaeJYnP"
   },
   "source": [
    "### Delete using ids"
   ]
  },
  {
   "cell_type": "code",
   "execution_count": 17,
   "metadata": {},
   "outputs": [
    {
     "data": {
      "text/html": [
       "<div>\n",
       "<style scoped>\n",
       "    .dataframe tbody tr th:only-of-type {\n",
       "        vertical-align: middle;\n",
       "    }\n",
       "\n",
       "    .dataframe tbody tr th {\n",
       "        vertical-align: top;\n",
       "    }\n",
       "\n",
       "    .dataframe thead th {\n",
       "        text-align: right;\n",
       "    }\n",
       "</style>\n",
       "<table border=\"1\" class=\"dataframe\">\n",
       "  <thead>\n",
       "    <tr style=\"text-align: right;\">\n",
       "      <th></th>\n",
       "      <th>user</th>\n",
       "      <th>amount</th>\n",
       "    </tr>\n",
       "  </thead>\n",
       "  <tbody>\n",
       "    <tr>\n",
       "      <th>1</th>\n",
       "      <td>user1</td>\n",
       "      <td>3.14</td>\n",
       "    </tr>\n",
       "    <tr>\n",
       "      <th>2</th>\n",
       "      <td>user2</td>\n",
       "      <td>2.72</td>\n",
       "    </tr>\n",
       "  </tbody>\n",
       "</table>\n",
       "</div>"
      ],
      "text/plain": [
       "    user  amount\n",
       "1  user1    3.14\n",
       "2  user2    2.72"
      ]
     },
     "execution_count": 17,
     "metadata": {},
     "output_type": "execute_result"
    }
   ],
   "source": [
    "c.sequences.data.retrieve_dataframe(id=2357839693666680,start=0,end=None)"
   ]
  },
  {
   "cell_type": "code",
   "execution_count": 18,
   "metadata": {
    "id": "lAH4oq3PJyvB"
   },
   "outputs": [],
   "source": [
    "c.sequences.data.delete(id=2357839693666680, rows=[1])"
   ]
  },
  {
   "cell_type": "code",
   "execution_count": 19,
   "metadata": {},
   "outputs": [
    {
     "data": {
      "text/html": [
       "<div>\n",
       "<style scoped>\n",
       "    .dataframe tbody tr th:only-of-type {\n",
       "        vertical-align: middle;\n",
       "    }\n",
       "\n",
       "    .dataframe tbody tr th {\n",
       "        vertical-align: top;\n",
       "    }\n",
       "\n",
       "    .dataframe thead th {\n",
       "        text-align: right;\n",
       "    }\n",
       "</style>\n",
       "<table border=\"1\" class=\"dataframe\">\n",
       "  <thead>\n",
       "    <tr style=\"text-align: right;\">\n",
       "      <th></th>\n",
       "      <th>user</th>\n",
       "      <th>amount</th>\n",
       "    </tr>\n",
       "  </thead>\n",
       "  <tbody>\n",
       "    <tr>\n",
       "      <th>2</th>\n",
       "      <td>user2</td>\n",
       "      <td>2.72</td>\n",
       "    </tr>\n",
       "  </tbody>\n",
       "</table>\n",
       "</div>"
      ],
      "text/plain": [
       "    user  amount\n",
       "2  user2    2.72"
      ]
     },
     "execution_count": 19,
     "metadata": {},
     "output_type": "execute_result"
    }
   ],
   "source": [
    "c.sequences.data.retrieve_dataframe(id=2357839693666680,start=0,end=None)"
   ]
  },
  {
   "cell_type": "markdown",
   "metadata": {
    "id": "9lSf4XnUJfMB"
   },
   "source": [
    "### Delete using a Range"
   ]
  },
  {
   "cell_type": "code",
   "execution_count": 10,
   "metadata": {},
   "outputs": [
    {
     "data": {
      "text/html": [
       "<div>\n",
       "<style scoped>\n",
       "    .dataframe tbody tr th:only-of-type {\n",
       "        vertical-align: middle;\n",
       "    }\n",
       "\n",
       "    .dataframe tbody tr th {\n",
       "        vertical-align: top;\n",
       "    }\n",
       "\n",
       "    .dataframe thead th {\n",
       "        text-align: right;\n",
       "    }\n",
       "</style>\n",
       "<table border=\"1\" class=\"dataframe\">\n",
       "  <thead>\n",
       "    <tr style=\"text-align: right;\">\n",
       "      <th></th>\n",
       "      <th>id</th>\n",
       "      <th>external_id</th>\n",
       "      <th>name</th>\n",
       "      <th>is_string</th>\n",
       "      <th>metadata</th>\n",
       "      <th>is_step</th>\n",
       "      <th>security_categories</th>\n",
       "      <th>data_set_id</th>\n",
       "      <th>created_time</th>\n",
       "      <th>last_updated_time</th>\n",
       "    </tr>\n",
       "  </thead>\n",
       "  <tbody>\n",
       "    <tr>\n",
       "      <th>0</th>\n",
       "      <td>5258405260776053</td>\n",
       "      <td>my_ts</td>\n",
       "      <td>my_ts</td>\n",
       "      <td>False</td>\n",
       "      <td>{}</td>\n",
       "      <td>False</td>\n",
       "      <td>[]</td>\n",
       "      <td>1399248851345249</td>\n",
       "      <td>1657199813970</td>\n",
       "      <td>1657199813970</td>\n",
       "    </tr>\n",
       "  </tbody>\n",
       "</table>\n",
       "</div>"
      ],
      "text/plain": [
       "TimeSeriesList([<cognite.client.data_classes.time_series.TimeSeries at 0x7fae32853370>])"
      ]
     },
     "execution_count": 10,
     "metadata": {},
     "output_type": "execute_result"
    }
   ],
   "source": [
    "c.time_series.list(external_id_prefix=\"my_\")"
   ]
  },
  {
   "cell_type": "code",
   "execution_count": 11,
   "metadata": {
    "id": "KpjV-Y8mJh6P"
   },
   "outputs": [],
   "source": [
    "c.datapoints.delete_range(start=150000000000, end=160000000000, id=5258405260776053)"
   ]
  },
  {
   "cell_type": "code",
   "execution_count": 20,
   "metadata": {
    "id": "V0rdsjCxJ0RS"
   },
   "outputs": [],
   "source": [
    "c.sequences.data.delete_range(id=2357839693666680, start=0, end=None)"
   ]
  },
  {
   "cell_type": "code",
   "execution_count": 21,
   "metadata": {},
   "outputs": [
    {
     "data": {
      "text/html": [
       "<div>\n",
       "<style scoped>\n",
       "    .dataframe tbody tr th:only-of-type {\n",
       "        vertical-align: middle;\n",
       "    }\n",
       "\n",
       "    .dataframe tbody tr th {\n",
       "        vertical-align: top;\n",
       "    }\n",
       "\n",
       "    .dataframe thead th {\n",
       "        text-align: right;\n",
       "    }\n",
       "</style>\n",
       "<table border=\"1\" class=\"dataframe\">\n",
       "  <thead>\n",
       "    <tr style=\"text-align: right;\">\n",
       "      <th></th>\n",
       "      <th>user</th>\n",
       "      <th>amount</th>\n",
       "    </tr>\n",
       "  </thead>\n",
       "  <tbody>\n",
       "  </tbody>\n",
       "</table>\n",
       "</div>"
      ],
      "text/plain": [
       "Empty DataFrame\n",
       "Columns: [user, amount]\n",
       "Index: []"
      ]
     },
     "execution_count": 21,
     "metadata": {},
     "output_type": "execute_result"
    }
   ],
   "source": [
    "c.sequences.data.retrieve_dataframe(id=2357839693666680,start=0,end=None)"
   ]
  },
  {
   "cell_type": "markdown",
   "metadata": {
    "id": "rj_3xVjJJiko"
   },
   "source": [
    "### Delete multiple ranges"
   ]
  },
  {
   "cell_type": "code",
   "execution_count": null,
   "metadata": {
    "id": "XuEh5yroJnvl"
   },
   "outputs": [],
   "source": [
    "ranges = [{\"id\": 1, \"start\": \"2d-ago\", \"end\": \"now\"},\n",
    "            {\"externalId\": \"abc\", \"start\": \"2d-ago\", \"end\": \"now\"}]\n",
    "c.datapoints.delete_ranges(ranges)"
   ]
  },
  {
   "cell_type": "markdown",
   "metadata": {
    "id": "GsdtFcFSJVHk"
   },
   "source": [
    "### Delete various resource types"
   ]
  },
  {
   "cell_type": "code",
   "execution_count": 24,
   "metadata": {},
   "outputs": [
    {
     "data": {
      "text/html": [
       "<div>\n",
       "<style scoped>\n",
       "    .dataframe tbody tr th:only-of-type {\n",
       "        vertical-align: middle;\n",
       "    }\n",
       "\n",
       "    .dataframe tbody tr th {\n",
       "        vertical-align: top;\n",
       "    }\n",
       "\n",
       "    .dataframe thead th {\n",
       "        text-align: right;\n",
       "    }\n",
       "</style>\n",
       "<table border=\"1\" class=\"dataframe\">\n",
       "  <thead>\n",
       "    <tr style=\"text-align: right;\">\n",
       "      <th></th>\n",
       "      <th>external_id</th>\n",
       "      <th>name</th>\n",
       "      <th>created_time</th>\n",
       "    </tr>\n",
       "  </thead>\n",
       "  <tbody>\n",
       "    <tr>\n",
       "      <th>0</th>\n",
       "      <td>REGION</td>\n",
       "      <td>REGION</td>\n",
       "      <td>1657141671698</td>\n",
       "    </tr>\n",
       "    <tr>\n",
       "      <th>1</th>\n",
       "      <td>COUNTRY</td>\n",
       "      <td>COUNTRY</td>\n",
       "      <td>1657141671698</td>\n",
       "    </tr>\n",
       "    <tr>\n",
       "      <th>2</th>\n",
       "      <td>BALTIC</td>\n",
       "      <td>BALTIC</td>\n",
       "      <td>1657143421635</td>\n",
       "    </tr>\n",
       "    <tr>\n",
       "      <th>3</th>\n",
       "      <td>NORDIC</td>\n",
       "      <td>NORDIC</td>\n",
       "      <td>1657142354433</td>\n",
       "    </tr>\n",
       "  </tbody>\n",
       "</table>\n",
       "</div>"
      ],
      "text/plain": [
       "LabelDefinitionList([<cognite.client.data_classes.labels.LabelDefinition at 0x7fae31fb73d0>,\n",
       "                     <cognite.client.data_classes.labels.LabelDefinition at 0x7fae31fb7af0>,\n",
       "                     <cognite.client.data_classes.labels.LabelDefinition at 0x7fae31fb7a60>,\n",
       "                     <cognite.client.data_classes.labels.LabelDefinition at 0x7fae31fb79d0>])"
      ]
     },
     "execution_count": 24,
     "metadata": {},
     "output_type": "execute_result"
    }
   ],
   "source": [
    "c.labels.list()"
   ]
  },
  {
   "cell_type": "code",
   "execution_count": 23,
   "metadata": {
    "id": "tQldwsHGKMYn"
   },
   "outputs": [],
   "source": [
    "c.labels.delete(external_id=[\"ROTATING_EQUIPMENT\", \"PUMP\"])"
   ]
  },
  {
   "cell_type": "code",
   "execution_count": 9,
   "metadata": {},
   "outputs": [],
   "source": [
    "c.assets.delete(id=[2337497105272481,3850461732700104])"
   ]
  },
  {
   "cell_type": "code",
   "execution_count": null,
   "metadata": {
    "id": "j62xAi52KMWx"
   },
   "outputs": [],
   "source": [
    "c.assets.delete(id=[1,2,3], external_id=\"3\")"
   ]
  },
  {
   "cell_type": "code",
   "execution_count": null,
   "metadata": {
    "id": "5JWuCkv9KMS1"
   },
   "outputs": [],
   "source": [
    "c.time_series.delete(id=[1,2,3], external_id=\"3\")"
   ]
  },
  {
   "cell_type": "code",
   "execution_count": null,
   "metadata": {
    "id": "34hBDh67KMP7"
   },
   "outputs": [],
   "source": [
    "c.sequences.delete(id=[1,2,3], external_id=\"3\")"
   ]
  },
  {
   "cell_type": "code",
   "execution_count": null,
   "metadata": {
    "id": "_dBuJDAzKMHa"
   },
   "outputs": [],
   "source": [
    "c.events.delete(id=[1,2,3], external_id=\"3\")"
   ]
  },
  {
   "cell_type": "code",
   "execution_count": null,
   "metadata": {
    "id": "inKqS_F0KayP"
   },
   "outputs": [],
   "source": [
    "c.files.delete(id=[1,2,3], external_id=\"3\")"
   ]
  },
  {
   "cell_type": "code",
   "execution_count": null,
   "metadata": {
    "id": "QGdy9dXJKepc"
   },
   "outputs": [],
   "source": [
    "c.relationships.delete(external_id=[\"a\",\"b\"])"
   ]
  },
  {
   "cell_type": "markdown",
   "metadata": {},
   "source": [
    "## Bulk Deletion"
   ]
  },
  {
   "cell_type": "markdown",
   "metadata": {
    "id": "a3ZTLTwMStVe"
   },
   "source": [
    "How to delete recursively and effectively."
   ]
  },
  {
   "cell_type": "code",
   "execution_count": 25,
   "metadata": {},
   "outputs": [
    {
     "data": {
      "text/html": [
       "<div>\n",
       "<style scoped>\n",
       "    .dataframe tbody tr th:only-of-type {\n",
       "        vertical-align: middle;\n",
       "    }\n",
       "\n",
       "    .dataframe tbody tr th {\n",
       "        vertical-align: top;\n",
       "    }\n",
       "\n",
       "    .dataframe thead th {\n",
       "        text-align: right;\n",
       "    }\n",
       "</style>\n",
       "<table border=\"1\" class=\"dataframe\">\n",
       "  <thead>\n",
       "    <tr style=\"text-align: right;\">\n",
       "      <th></th>\n",
       "      <th>external_id</th>\n",
       "      <th>name</th>\n",
       "      <th>data_set_id</th>\n",
       "      <th>metadata</th>\n",
       "      <th>id</th>\n",
       "      <th>created_time</th>\n",
       "      <th>last_updated_time</th>\n",
       "      <th>root_id</th>\n",
       "      <th>parent_id</th>\n",
       "      <th>parent_external_id</th>\n",
       "    </tr>\n",
       "  </thead>\n",
       "  <tbody>\n",
       "    <tr>\n",
       "      <th>0</th>\n",
       "      <td>root</td>\n",
       "      <td>Root</td>\n",
       "      <td>1399248851345249</td>\n",
       "      <td>{}</td>\n",
       "      <td>4299328479638485</td>\n",
       "      <td>1657200692566</td>\n",
       "      <td>1657200692566</td>\n",
       "      <td>4299328479638485</td>\n",
       "      <td>&lt;NA&gt;</td>\n",
       "      <td>NaN</td>\n",
       "    </tr>\n",
       "    <tr>\n",
       "      <th>1</th>\n",
       "      <td>child2</td>\n",
       "      <td>child2</td>\n",
       "      <td>1399248851345249</td>\n",
       "      <td>{}</td>\n",
       "      <td>2994057977739744</td>\n",
       "      <td>1657200692566</td>\n",
       "      <td>1657200692566</td>\n",
       "      <td>4299328479638485</td>\n",
       "      <td>4299328479638485</td>\n",
       "      <td>root</td>\n",
       "    </tr>\n",
       "    <tr>\n",
       "      <th>2</th>\n",
       "      <td>child1</td>\n",
       "      <td>child1</td>\n",
       "      <td>1399248851345249</td>\n",
       "      <td>{}</td>\n",
       "      <td>6709553116468444</td>\n",
       "      <td>1657200692566</td>\n",
       "      <td>1657200692566</td>\n",
       "      <td>4299328479638485</td>\n",
       "      <td>4299328479638485</td>\n",
       "      <td>root</td>\n",
       "    </tr>\n",
       "    <tr>\n",
       "      <th>3</th>\n",
       "      <td>child_of_child1</td>\n",
       "      <td>child_of_child1</td>\n",
       "      <td>1399248851345249</td>\n",
       "      <td>{}</td>\n",
       "      <td>6986429626685430</td>\n",
       "      <td>1657200692566</td>\n",
       "      <td>1657200692566</td>\n",
       "      <td>4299328479638485</td>\n",
       "      <td>6709553116468444</td>\n",
       "      <td>child1</td>\n",
       "    </tr>\n",
       "  </tbody>\n",
       "</table>\n",
       "</div>"
      ],
      "text/plain": [
       "AssetList([<cognite.client.data_classes.assets.Asset at 0x7fae3282e3a0>,\n",
       "           <cognite.client.data_classes.assets.Asset at 0x7fae31fb70d0>,\n",
       "           <cognite.client.data_classes.assets.Asset at 0x7fae31fb7790>,\n",
       "           <cognite.client.data_classes.assets.Asset at 0x7fae31fb7c70>])"
      ]
     },
     "execution_count": 25,
     "metadata": {},
     "output_type": "execute_result"
    }
   ],
   "source": [
    "c.assets.retrieve_subtree(external_id=\"root\")"
   ]
  },
  {
   "cell_type": "code",
   "execution_count": 26,
   "metadata": {},
   "outputs": [],
   "source": [
    "# Retrieve a subtree given a root asset and delete root and all subtree assets\n",
    "empty_asset_list = False\n",
    "root_asset_ext_id = 'root'\n",
    "while not(empty_asset_list):\n",
    "    try:\n",
    "        subtree_df = c.assets.retrieve(external_id=root_asset_ext_id).subtree().to_pandas()\n",
    "        non_parent_childs = subtree_df.loc[~subtree_df['id'].isin(subtree_df['parentId'].unique()),:]['id'].tolist()\n",
    "        c.assets.delete(non_parent_childs)\n",
    "        empty_asset_list = False\n",
    "    except:\n",
    "        empty_asset_list = True\n",
    "        try:\n",
    "            c.assets.delete(external_id=root_asset_ext_id)\n",
    "        except:\n",
    "            pass"
   ]
  },
  {
   "cell_type": "code",
   "execution_count": 27,
   "metadata": {},
   "outputs": [
    {
     "data": {
      "text/html": [
       "<div>\n",
       "<style scoped>\n",
       "    .dataframe tbody tr th:only-of-type {\n",
       "        vertical-align: middle;\n",
       "    }\n",
       "\n",
       "    .dataframe tbody tr th {\n",
       "        vertical-align: top;\n",
       "    }\n",
       "\n",
       "    .dataframe thead th {\n",
       "        text-align: right;\n",
       "    }\n",
       "</style>\n",
       "<table border=\"1\" class=\"dataframe\">\n",
       "  <thead>\n",
       "    <tr style=\"text-align: right;\">\n",
       "      <th></th>\n",
       "    </tr>\n",
       "  </thead>\n",
       "  <tbody>\n",
       "  </tbody>\n",
       "</table>\n",
       "</div>"
      ],
      "text/plain": [
       "AssetList([])"
      ]
     },
     "execution_count": 27,
     "metadata": {},
     "output_type": "execute_result"
    }
   ],
   "source": [
    "c.assets.list(data_set_external_ids=['root'])"
   ]
  }
 ],
 "metadata": {
  "kernelspec": {
   "display_name": "Python 3.8.10 ('.venv': poetry)",
   "language": "python",
   "name": "python3"
  },
  "language_info": {
   "codemirror_mode": {
    "name": "ipython",
    "version": 3
   },
   "file_extension": ".py",
   "mimetype": "text/x-python",
   "name": "python",
   "nbconvert_exporter": "python",
   "pygments_lexer": "ipython3",
   "version": "3.8.10"
  },
  "orig_nbformat": 4,
  "vscode": {
   "interpreter": {
    "hash": "a91ca9ec7d99e670fac56e3349d369f0cfcf0e1d088f5d3a781425823b7f65f5"
   }
  }
 },
 "nbformat": 4,
 "nbformat_minor": 2
}
