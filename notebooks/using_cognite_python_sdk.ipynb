{
  "cells": [
    {
      "cell_type": "markdown",
      "metadata": {
        "id": "0wR5XbbO5Ez0"
      },
      "source": [
        "# Python SDK course"
      ]
    },
    {
      "cell_type": "markdown",
      "metadata": {
        "id": "S5QLRjQA4cbH"
      },
      "source": [
        "## 1. Introduction to Python SDK\n",
        "\n",
        "- Introduction to Python SDK\n",
        "- Documentation &amp; Github repository\n",
        "- Install using pip"
      ]
    },
    {
      "cell_type": "markdown",
      "metadata": {
        "id": "AtwzZWYUWrfk"
      },
      "source": [
        "**The Python Software Development Kit (SDK)**\n",
        "The Cognite Python SDK requires Python 3.5+ and provides access to the Cognite Data Fusion API from applications written in the Python language. For detailed information, see the [Cognite Python SDK Documentation](https://docs.cognite.com/dev/guides/sdk/python/)."
      ]
    },
    {
      "cell_type": "markdown",
      "metadata": {
        "id": "d_1vE_NI8cqG"
      },
      "source": [
        "### Install the python-sdk package"
      ]
    },
    {
      "cell_type": "code",
      "execution_count": null,
      "metadata": {
        "id": "gc-YorkG6g5W"
      },
      "outputs": [],
      "source": [
        "! pip install cognite-sdk"
      ]
    },
    {
      "cell_type": "markdown",
      "metadata": {
        "id": "IJ91Pu4l64QF"
      },
      "source": [
        "## 2. Authentication\n",
        "\n",
        "- Creating CogniteClient using different methods\n",
        "  - Interactive login\n",
        "  - Using Device code\n",
        "  - Using clientID &amp; client secret\n",
        "- Checking the login status"
      ]
    },
    {
      "cell_type": "markdown",
      "metadata": {
        "id": "d-9CqNEWaKBL"
      },
      "source": [
        "You can authenticate the Python SDK with Azure AD by using a token retrieved when a user authenticates or with a static client secret for long-running jobs like extractors or calculations."
      ]
    },
    {
      "cell_type": "markdown",
      "metadata": {
        "id": "LhLXvKoEeRcW"
      },
      "source": [
        "### Prerequisites"
      ]
    },
    {
      "cell_type": "markdown",
      "metadata": {
        "id": "qZ6WP9_TeXs_"
      },
      "source": [
        "* Install the Microsoft Authentication Library (MSAL) for Python."
      ]
    },
    {
      "cell_type": "code",
      "execution_count": null,
      "metadata": {
        "id": "qe4ySE8red7p"
      },
      "outputs": [],
      "source": [
        "! pip install msal"
      ]
    },
    {
      "cell_type": "markdown",
      "metadata": {
        "id": "2fcvzMnTen-Q"
      },
      "source": [
        "* You need to specify the values for the following configuration parameters:\n",
        " * `Tenant ID` - the ID of the Azure AD tenant where the user is registered.\n",
        " * `Client ID` - the ID of the application in Azure AD.\n",
        " * `Cluster` - the cluster where your CDF project is installed. For example, api and westeurope-1.\n",
        " * `CDF project` - the name of the CDF project."
      ]
    },
    {
      "cell_type": "markdown",
      "metadata": {
        "id": "wMYAkvE2fd4A"
      },
      "source": [
        "If you don't know which values to use for these variables, contact your CDF administrator or Cognite Support."
      ]
    },
    {
      "cell_type": "markdown",
      "metadata": {
        "id": "WiWDuLtLfy2l"
      },
      "source": [
        "You can directly set the values for these parameters here or read as environment variables or from file."
      ]
    },
    {
      "cell_type": "code",
      "execution_count": null,
      "metadata": {
        "id": "UqIYl20WemoT"
      },
      "outputs": [],
      "source": [
        "TENANT_ID=\"**\"\n",
        "CLIENT_ID=\"**\"\n",
        "CDF_CLUSTER=\"api\"\n",
        "COGNITE_PROJECT=\"ds-basics\" # Note : The code in this notebook mostly works with this project data"
      ]
    },
    {
      "cell_type": "markdown",
      "metadata": {
        "id": "s48bKQb-hnBE"
      },
      "source": [
        "Also set the following derived variables, which will be used for obtaining token"
      ]
    },
    {
      "cell_type": "code",
      "execution_count": null,
      "metadata": {
        "id": "u8dEgCwWhrWr"
      },
      "outputs": [],
      "source": [
        "SCOPES = [f\"https://{CDF_CLUSTER}.cognitedata.com/.default\"]\n",
        "\n",
        "AUTHORITY_HOST_URI = \"https://login.microsoftonline.com\"\n",
        "AUTHORITY_URI = AUTHORITY_HOST_URI + \"/\" + TENANT_ID\n",
        "PORT = 53000\n",
        "\n",
        "TOKEN_URL = f\"https://login.microsoftonline.com/{TENANT_ID}/oauth2/v2.0/token\""
      ]
    },
    {
      "cell_type": "markdown",
      "metadata": {
        "id": "6icD8Qewd4ua"
      },
      "source": [
        "### Authenticate with user credentials\n",
        "You can authenticate the Python SDK with Azure AD by using a token retrieved with user credentials.\n",
        "\n",
        "#### Interactive Login\n",
        "You can get the token by letting the user sign in interactively via a browser and use the authenticate with interactive login and token refresh flow to access CDF when you're running short-term scripts or using Jupyter."
      ]
    },
    {
      "cell_type": "code",
      "execution_count": null,
      "metadata": {
        "id": "-WNZiPG_hDwB"
      },
      "outputs": [],
      "source": [
        "from cognite.client import CogniteClient\n",
        "from msal import PublicClientApplication"
      ]
    },
    {
      "cell_type": "code",
      "execution_count": null,
      "metadata": {
        "id": "XMhOqR6z64uW"
      },
      "outputs": [],
      "source": [
        "app = PublicClientApplication(client_id=CLIENT_ID, authority=AUTHORITY_URI)\n",
        "creds = app.acquire_token_interactive(scopes=SCOPES, port=PORT)"
      ]
    },
    {
      "cell_type": "code",
      "execution_count": null,
      "metadata": {
        "id": "Cv013CHjh2t3"
      },
      "outputs": [],
      "source": [
        "client = CogniteClient(\n",
        "    token_url=creds[\"id_token_claims\"][\"iss\"],\n",
        "    token=creds[\"access_token\"],\n",
        "    token_client_id=creds[\"id_token_claims\"][\"aud\"],\n",
        "    client_name=\"my-client-interactive\",\n",
        "    project=COGNITE_PROJECT)"
      ]
    },
    {
      "cell_type": "markdown",
      "metadata": {
        "id": "MGAC2-jsgZmI"
      },
      "source": [
        "#### Using Device Code (NOTE :  code is giving errors )\n",
        "If a browser is not available, for example, if you are logged into a terminal, you can use the authenticate with user credentials and device code flow."
      ]
    },
    {
      "cell_type": "code",
      "execution_count": null,
      "metadata": {
        "colab": {
          "base_uri": "https://localhost:8080/"
        },
        "id": "pQpxAGTOgaQF",
        "outputId": "57b8aa2a-c579-48b8-fe20-5cd28ddda55d"
      },
      "outputs": [],
      "source": [
        "app = PublicClientApplication(client_id=CLIENT_ID, authority=AUTHORITY_URI)\n",
        "device_flow = app.initiate_device_flow(scopes=SCOPES)\n",
        "print(device_flow[\"message\"])  # print device code to screen\n",
        "creds = app.acquire_token_by_device_flow(flow=device_flow)"
      ]
    },
    {
      "cell_type": "code",
      "execution_count": null,
      "metadata": {},
      "outputs": [],
      "source": [
        "creds"
      ]
    },
    {
      "cell_type": "code",
      "execution_count": null,
      "metadata": {
        "id": "UzNGnYxzhc3Z"
      },
      "outputs": [],
      "source": [
        "client = CogniteClient(\n",
        "    token_url=creds[\"id_token_claims\"][\"iss\"],\n",
        "    token=creds[\"access_token\"],\n",
        "    token_client_id=creds[\"id_token_claims\"][\"aud\"])"
      ]
    },
    {
      "cell_type": "markdown",
      "metadata": {
        "id": "SeukLHOEsZv2"
      },
      "source": [
        "### Authenticate with client secret"
      ]
    },
    {
      "cell_type": "code",
      "execution_count": null,
      "metadata": {
        "id": "iYGMF925sdjY"
      },
      "outputs": [],
      "source": [
        "import os\n",
        "CLIENT_SECRET = os.getenv(\"CLIENT_SECRET\")  # store secret in env variable"
      ]
    },
    {
      "cell_type": "code",
      "execution_count": null,
      "metadata": {},
      "outputs": [],
      "source": [
        "from getpass import getpass\n",
        "CLIENT_SECRET = getpass(\"Enter the Client Secret: \")  # Enter the client secret interactively here"
      ]
    },
    {
      "cell_type": "code",
      "execution_count": null,
      "metadata": {
        "id": "0JAPsS7Ts8fZ"
      },
      "outputs": [],
      "source": [
        "client = CogniteClient(\n",
        "    token_url=TOKEN_URL,\n",
        "    token_client_id=CLIENT_ID,\n",
        "    token_client_secret=CLIENT_SECRET,\n",
        "    token_scopes=SCOPES,\n",
        "    project=COGNITE_PROJECT,\n",
        "    base_url=f\"https://{CDF_CLUSTER}.cognitedata.com\",\n",
        "    client_name=\"client_secret_test_script\",\n",
        "    debug=False,\n",
        ")"
      ]
    },
    {
      "cell_type": "markdown",
      "metadata": {
        "id": "wFuq1vmBuWfw"
      },
      "source": [
        "### Check the login status"
      ]
    },
    {
      "cell_type": "code",
      "execution_count": null,
      "metadata": {
        "id": "TFrWgdKxuaQu"
      },
      "outputs": [],
      "source": [
        "client.login.status()"
      ]
    },
    {
      "cell_type": "markdown",
      "metadata": {
        "id": "h_jP4vIpgJzU"
      },
      "source": [
        "Also let's name client as c for later references"
      ]
    },
    {
      "cell_type": "code",
      "execution_count": null,
      "metadata": {
        "id": "hmXZyfPTgPGz"
      },
      "outputs": [],
      "source": [
        "c = client"
      ]
    },
    {
      "cell_type": "markdown",
      "metadata": {},
      "source": [
        "### (Code note to be shown) Authenticate using API-key"
      ]
    },
    {
      "cell_type": "code",
      "execution_count": null,
      "metadata": {},
      "outputs": [],
      "source": [
        "# client_apikey = CogniteClient(api_key=getpass(\"Enter the Open Industrial Data API-KEY: \"),\n",
        "#                        project=\"publicdata\", client_name=\"cdf_client_public_data\", debug=False)\n",
        "\n",
        "# c = client_apikey"
      ]
    },
    {
      "cell_type": "markdown",
      "metadata": {
        "id": "klFiLHr468tD"
      },
      "source": [
        "## 3. List operation\n",
        "\n",
        "**Code Pattern**\n",
        "`client.<cdf_resource_type>.list()`\n",
        "where **cdf_resource_type** = { data_sets, assets, time_series, events, files, labels, sequences, relationships ... }\n"
      ]
    },
    {
      "cell_type": "markdown",
      "metadata": {
        "id": "t7RAQDHpC0Kx"
      },
      "source": [
        "### List the CDF Resource types"
      ]
    },
    {
      "cell_type": "code",
      "execution_count": null,
      "metadata": {
        "id": "4cRIhSz569OH"
      },
      "outputs": [],
      "source": [
        "c.data_sets.list()"
      ]
    },
    {
      "cell_type": "code",
      "execution_count": null,
      "metadata": {
        "id": "sr_Wk7L7gbGF"
      },
      "outputs": [],
      "source": [
        "c.assets.list(limit=5)"
      ]
    },
    {
      "cell_type": "code",
      "execution_count": null,
      "metadata": {
        "id": "9zx-JAevgbDj"
      },
      "outputs": [],
      "source": [
        "c.time_series.list(limit=5)"
      ]
    },
    {
      "cell_type": "code",
      "execution_count": null,
      "metadata": {
        "id": "02rDfBVRga2D"
      },
      "outputs": [],
      "source": [
        "c.events.list(limit=5)"
      ]
    },
    {
      "cell_type": "code",
      "execution_count": null,
      "metadata": {
        "id": "IS4LrbiogazU"
      },
      "outputs": [],
      "source": [
        "c.files.list(limit=5)"
      ]
    },
    {
      "cell_type": "markdown",
      "metadata": {
        "id": "4g67uRXEkffO"
      },
      "source": [
        "Similar code for listing other resource types\n",
        "\n",
        "\n",
        "```\n",
        "c.labels.list()\n",
        "```\n",
        "```\n",
        "c.sequences.list()\n",
        "```\n",
        "```\n",
        "c.relationships.list()\n",
        "```\n"
      ]
    },
    {
      "cell_type": "markdown",
      "metadata": {},
      "source": [
        "There are no labels in Publicdata, need to create some dummy may be."
      ]
    },
    {
      "cell_type": "code",
      "execution_count": null,
      "metadata": {},
      "outputs": [],
      "source": [
        "c.labels.list(limit=5)"
      ]
    },
    {
      "cell_type": "code",
      "execution_count": null,
      "metadata": {},
      "outputs": [],
      "source": [
        "c.sequences.list(limit=5)"
      ]
    },
    {
      "cell_type": "code",
      "execution_count": null,
      "metadata": {},
      "outputs": [],
      "source": [
        "c.relationships.list(limit=5)"
      ]
    },
    {
      "cell_type": "markdown",
      "metadata": {
        "id": "HWQ-sk6j9LVV"
      },
      "source": [
        "### Filter the list results"
      ]
    },
    {
      "cell_type": "markdown",
      "metadata": {
        "id": "ynD-tIvC9q-P"
      },
      "source": [
        "using label filter"
      ]
    },
    {
      "cell_type": "code",
      "execution_count": null,
      "metadata": {},
      "outputs": [],
      "source": [
        "from cognite.client.data_classes import LabelFilter"
      ]
    },
    {
      "cell_type": "code",
      "execution_count": null,
      "metadata": {
        "id": "oYdPzdSt9TPT"
      },
      "outputs": [],
      "source": [
        "c.assets.list(labels=LabelFilter(contains_all=[\"EQUIPMENT_VALVE\"]),limit=5)"
      ]
    },
    {
      "cell_type": "code",
      "execution_count": null,
      "metadata": {
        "id": "rziDSqqI9umu"
      },
      "outputs": [],
      "source": [
        "c.assets.list(labels=LabelFilter(contains_any=[\"EQUIPMENT_PUMP\", \"EQUIPMENT_VALVE\"]),limit=5)"
      ]
    },
    {
      "cell_type": "markdown",
      "metadata": {
        "id": "nI2_P6kO9xWz"
      },
      "source": [
        "using metadata filter"
      ]
    },
    {
      "cell_type": "code",
      "execution_count": null,
      "metadata": {},
      "outputs": [],
      "source": [
        "# First get some metadata keys to inspect\n",
        "c.assets.list(limit=5).to_pandas()['metadata'][4]"
      ]
    },
    {
      "cell_type": "code",
      "execution_count": null,
      "metadata": {
        "id": "vofz-xU592PQ"
      },
      "outputs": [],
      "source": [
        "# Get the assets list satisfying metadata filter\n",
        "c.assets.list(metadata={'ELC_STATUS_ID': '1211'},limit=5)"
      ]
    },
    {
      "cell_type": "markdown",
      "metadata": {
        "id": "6WqLyyUD94LM"
      },
      "source": [
        "Other filters"
      ]
    },
    {
      "cell_type": "code",
      "execution_count": null,
      "metadata": {
        "id": "EorGytQX-S7h"
      },
      "outputs": [],
      "source": [
        "c.data_sets.list(write_protected=False)"
      ]
    },
    {
      "cell_type": "code",
      "execution_count": null,
      "metadata": {
        "id": "hZiPaLjz-T7X"
      },
      "outputs": [],
      "source": [
        "c.labels.list(limit=5, name=\"EQUIPMENT_VALVE\")"
      ]
    },
    {
      "cell_type": "code",
      "execution_count": null,
      "metadata": {
        "id": "pEIBGgET96ss"
      },
      "outputs": [],
      "source": [
        "c.assets.list(root=True)"
      ]
    },
    {
      "cell_type": "code",
      "execution_count": null,
      "metadata": {
        "id": "jxxOQeG_-AFK"
      },
      "outputs": [],
      "source": [
        "c.time_series.list(is_step=True,limit=5)"
      ]
    },
    {
      "cell_type": "code",
      "execution_count": null,
      "metadata": {
        "id": "VuzIalcp-Ehs"
      },
      "outputs": [],
      "source": [
        "c.events.list(start_time={\"max\": 1500000000},limit=5)"
      ]
    },
    {
      "cell_type": "markdown",
      "metadata": {
        "id": "yiYL-Jla9PxW"
      },
      "source": [
        "### Iterate over the list"
      ]
    },
    {
      "cell_type": "code",
      "execution_count": null,
      "metadata": {
        "id": "K1vQt0sI9PX_"
      },
      "outputs": [],
      "source": [
        "for data_set in c.data_sets:\n",
        "    print(data_set.name) # do something with the data_set"
      ]
    },
    {
      "cell_type": "markdown",
      "metadata": {
        "id": "n4i1qa84-d_k"
      },
      "source": [
        "When List is too big, then use the **chunk_size** parameter to get the list in chunks"
      ]
    },
    {
      "cell_type": "code",
      "execution_count": null,
      "metadata": {
        "id": "63zEEWDN-awG"
      },
      "outputs": [],
      "source": [
        "for data_set_list in c.data_sets(chunk_size=5):\n",
        "    print([x.name for x in data_set_list]) # do something with the list"
      ]
    },
    {
      "cell_type": "markdown",
      "metadata": {
        "id": "zpREYtwv6-D5"
      },
      "source": [
        "## 4. Searching in CDF\n",
        "\n",
        "- Search the CDF resource types\n",
        "- Filter the search results\n",
        "\n",
        "**Code Pattern**\n",
        "\n",
        "`client.<cdf_resource_type>.search()`"
      ]
    },
    {
      "cell_type": "markdown",
      "metadata": {
        "id": "Kedd0ILi6O8O"
      },
      "source": [
        "### Fuzzy Search on one field"
      ]
    },
    {
      "cell_type": "code",
      "execution_count": null,
      "metadata": {
        "id": "kFd85SSP7DnB"
      },
      "outputs": [],
      "source": [
        "c.assets.search(name=\"23-HA-9114\",limit=5)"
      ]
    },
    {
      "cell_type": "code",
      "execution_count": null,
      "metadata": {
        "id": "Q2zWhWcB7ijs"
      },
      "outputs": [],
      "source": [
        "c.time_series.search(name=\"VAL_23-PDT-92501\",limit=5)"
      ]
    },
    {
      "cell_type": "code",
      "execution_count": null,
      "metadata": {
        "id": "wEIqmZxk70fq"
      },
      "outputs": [],
      "source": [
        "c.files.search(name=\".pdf\")"
      ]
    },
    {
      "cell_type": "markdown",
      "metadata": {},
      "source": [
        "Similarly for sequences and events"
      ]
    },
    {
      "cell_type": "markdown",
      "metadata": {
        "id": "jCSkaBou7thI"
      },
      "source": [
        "`c.sequences.search(name=\"some name\")`\n",
        "\n",
        "`c.events.search(description=\"some description\")`"
      ]
    },
    {
      "cell_type": "markdown",
      "metadata": {
        "id": "na0PFS-t6RiI"
      },
      "source": [
        "### Multi-field fuzzy search"
      ]
    },
    {
      "cell_type": "code",
      "execution_count": null,
      "metadata": {
        "id": "08NCYLTt6U_Y"
      },
      "outputs": [],
      "source": [
        "c.assets.search(query=\"Discharge Cooler\",limit=5)"
      ]
    },
    {
      "cell_type": "markdown",
      "metadata": {
        "id": "0n2Fjig66g-T"
      },
      "source": [
        "### Exact search on one field (e.g. name, description etc)"
      ]
    },
    {
      "cell_type": "code",
      "execution_count": null,
      "metadata": {
        "id": "ePj4KSx16gav"
      },
      "outputs": [],
      "source": [
        "c.assets.search(filter={\"name\": \"23-HA-9114\"})"
      ]
    },
    {
      "cell_type": "markdown",
      "metadata": {},
      "source": [
        "get all timeseries for the above asset"
      ]
    },
    {
      "cell_type": "code",
      "execution_count": null,
      "metadata": {
        "id": "d7uaUSRw8BtC"
      },
      "outputs": [],
      "source": [
        "c.time_series.search(filter={\"asset_ids\":[5192617294065915]})"
      ]
    },
    {
      "cell_type": "code",
      "execution_count": null,
      "metadata": {
        "id": "OklvTdY_8G--"
      },
      "outputs": [],
      "source": [
        "# First get an example type to filter on\n",
        "example_type = c.events.list()[0].type\n",
        "# Filter the events of that type\n",
        "c.events.search(filter={\"type\":example_type})"
      ]
    },
    {
      "cell_type": "markdown",
      "metadata": {
        "id": "P4B-ZCWr7Flu"
      },
      "source": [
        "### Multiple filters in search function"
      ]
    },
    {
      "cell_type": "code",
      "execution_count": null,
      "metadata": {},
      "outputs": [],
      "source": [
        "c.assets.list(limit=5)"
      ]
    },
    {
      "cell_type": "code",
      "execution_count": null,
      "metadata": {
        "id": "B0CZKYSk7LUY"
      },
      "outputs": [],
      "source": [
        "c.assets.search(name=\"23-HA-9114\",filter={\"parent_ids\": [2001559427541439]})"
      ]
    },
    {
      "cell_type": "markdown",
      "metadata": {
        "id": "f1g1ctbv7Olo"
      },
      "source": [
        "### Filter asset search using Label Filter"
      ]
    },
    {
      "cell_type": "code",
      "execution_count": null,
      "metadata": {},
      "outputs": [],
      "source": [
        "from cognite.client.data_classes import AssetFilter"
      ]
    },
    {
      "cell_type": "code",
      "execution_count": null,
      "metadata": {
        "id": "TDDxwIcP7YQy"
      },
      "outputs": [],
      "source": [
        "c.assets.search(name=\"LER13\",filter=AssetFilter(labels=LabelFilter(contains_all=[\"EQUIPMENT_VALVE\"])),limit=5)"
      ]
    },
    {
      "cell_type": "markdown",
      "metadata": {
        "id": "tTbOXMWa7ELN"
      },
      "source": [
        "## 5. Retrieve the CDF resource types and data\n",
        "\n",
        "### Code Pattern\n",
        "`client.<cdf_resource_type>.retrieve()`\n",
        "\n",
        "`client.<cdf_resource_type>.retrieve_multiple()`"
      ]
    },
    {
      "cell_type": "markdown",
      "metadata": {
        "id": "wdbXCfd5CiBL"
      },
      "source": [
        "### Retrieve the CDF resource types"
      ]
    },
    {
      "cell_type": "markdown",
      "metadata": {
        "id": "cDhU53Aq_yP4"
      },
      "source": [
        "single item - using id"
      ]
    },
    {
      "cell_type": "code",
      "execution_count": null,
      "metadata": {
        "id": "kRjiJd3X_xwm"
      },
      "outputs": [],
      "source": [
        "# id of dataset\n",
        "c.data_sets.retrieve(id=6847140037409299)"
      ]
    },
    {
      "cell_type": "code",
      "execution_count": null,
      "metadata": {
        "id": "Q2PQHLaeAKr8"
      },
      "outputs": [],
      "source": [
        "# id of timeseries\n",
        "c.datapoints.retrieve(id=947391658441, start=\"2w-ago\", end=\"now\")"
      ]
    },
    {
      "cell_type": "code",
      "execution_count": null,
      "metadata": {},
      "outputs": [],
      "source": [
        "# Get an example sequence id\n",
        "c.sequences.list()[0].id"
      ]
    },
    {
      "cell_type": "code",
      "execution_count": null,
      "metadata": {
        "id": "qzr2DHETAMcn"
      },
      "outputs": [],
      "source": [
        "# Get all rows for the sequence\n",
        "c.sequences.data.retrieve(id=752497012302, start=0, end=None)"
      ]
    },
    {
      "cell_type": "markdown",
      "metadata": {
        "id": "XVNLzXSY_1Bz"
      },
      "source": [
        "single item - using external_id"
      ]
    },
    {
      "cell_type": "code",
      "execution_count": null,
      "metadata": {
        "id": "7W7yRUde_24O"
      },
      "outputs": [],
      "source": [
        "c.data_sets.retrieve(external_id = \"AIR\")"
      ]
    },
    {
      "cell_type": "markdown",
      "metadata": {
        "id": "xK7UVcQu_3Mb"
      },
      "source": [
        "multiple items - using ids"
      ]
    },
    {
      "cell_type": "code",
      "execution_count": null,
      "metadata": {},
      "outputs": [],
      "source": [
        "c.data_sets.list()"
      ]
    },
    {
      "cell_type": "code",
      "execution_count": null,
      "metadata": {
        "id": "vRScn6xT_448"
      },
      "outputs": [],
      "source": [
        "c.data_sets.retrieve_multiple(ids=[784506703157529, 5382870207800064])"
      ]
    },
    {
      "cell_type": "markdown",
      "metadata": {
        "id": "dPJbvJt5_5Ml"
      },
      "source": [
        "multiple items - using external_ids"
      ]
    },
    {
      "cell_type": "code",
      "execution_count": null,
      "metadata": {
        "id": "TojMzQuo7ND9"
      },
      "outputs": [],
      "source": [
        "c.data_sets.retrieve_multiple(external_ids=[\"AIR\", \"BLUEPRINT_APP_DATASET\"], ignore_unknown_ids=True)"
      ]
    },
    {
      "cell_type": "code",
      "execution_count": null,
      "metadata": {
        "id": "P4rgCzSCAiyf"
      },
      "outputs": [],
      "source": [
        "from datetime import datetime\n",
        "# Don't put a long datetime range, as it'll fetch all the raw datapoints, which can be huge\n",
        "c.datapoints.retrieve(external_id=['pi:163657','pi:163658'],start=datetime(2018,1,1),end=datetime(2018,1,2))"
      ]
    },
    {
      "cell_type": "markdown",
      "metadata": {
        "id": "ZbmQ7nHH_LPc"
      },
      "source": [
        "### Retrieve all items related to an asset"
      ]
    },
    {
      "cell_type": "code",
      "execution_count": null,
      "metadata": {
        "id": "udVgSLje_NXY"
      },
      "outputs": [],
      "source": [
        "# get the asset object for \"23-HA-9114\"\n",
        "asset_obj = c.assets.retrieve(id = 5192617294065915)"
      ]
    },
    {
      "cell_type": "markdown",
      "metadata": {
        "id": "eq605vFYBnIV"
      },
      "source": [
        "Asset Subtree"
      ]
    },
    {
      "cell_type": "code",
      "execution_count": null,
      "metadata": {
        "id": "yXW2cuwhBbwf"
      },
      "outputs": [],
      "source": [
        "c.assets.retrieve_subtree(id = 5192617294065915)"
      ]
    },
    {
      "cell_type": "markdown",
      "metadata": {
        "id": "TBBB12OSBpNd"
      },
      "source": [
        "Children"
      ]
    },
    {
      "cell_type": "code",
      "execution_count": null,
      "metadata": {
        "id": "rV1BwOVaBdnO"
      },
      "outputs": [],
      "source": [
        "asset_obj.children()"
      ]
    },
    {
      "cell_type": "markdown",
      "metadata": {
        "id": "Fj_DvHb7Bq_1"
      },
      "source": [
        "Parent"
      ]
    },
    {
      "cell_type": "code",
      "execution_count": null,
      "metadata": {
        "id": "M7Po2WCHBfVb"
      },
      "outputs": [],
      "source": [
        "asset_obj.parent()"
      ]
    },
    {
      "cell_type": "markdown",
      "metadata": {
        "id": "MEg_F47FBttP"
      },
      "source": [
        "Events"
      ]
    },
    {
      "cell_type": "code",
      "execution_count": null,
      "metadata": {
        "id": "e-61AvDQBgrj"
      },
      "outputs": [],
      "source": [
        "asset_obj.events()"
      ]
    },
    {
      "cell_type": "markdown",
      "metadata": {
        "id": "nO-Zt4TQBvfv"
      },
      "source": [
        "Files"
      ]
    },
    {
      "cell_type": "code",
      "execution_count": null,
      "metadata": {
        "id": "uhHcOHYRBh9r"
      },
      "outputs": [],
      "source": [
        "asset_obj.files()"
      ]
    },
    {
      "cell_type": "markdown",
      "metadata": {
        "id": "gT-pHHvyBw89"
      },
      "source": [
        "Sequences"
      ]
    },
    {
      "cell_type": "code",
      "execution_count": null,
      "metadata": {
        "id": "F0QMRMCCBjWD"
      },
      "outputs": [],
      "source": [
        "asset_obj.sequences()"
      ]
    },
    {
      "cell_type": "markdown",
      "metadata": {
        "id": "VPSqK5ytBzJ9"
      },
      "source": [
        "Timeseries"
      ]
    },
    {
      "cell_type": "code",
      "execution_count": null,
      "metadata": {
        "id": "47w8pYzsBkz_"
      },
      "outputs": [],
      "source": [
        "asset_obj.time_series()"
      ]
    },
    {
      "cell_type": "markdown",
      "metadata": {
        "id": "ZZUMyvpp_N9x"
      },
      "source": [
        "### Retrieve data"
      ]
    },
    {
      "cell_type": "markdown",
      "metadata": {},
      "source": [
        "#### Retrieve Raw Data"
      ]
    },
    {
      "cell_type": "code",
      "execution_count": null,
      "metadata": {},
      "outputs": [],
      "source": [
        "# Don't put a long datetime range, as it'll fetch all the raw datapoints, which can be huge for Raw datapoints\n",
        "c.datapoints.retrieve(external_id=['pi:163657','pi:163658'],start=datetime(2018,1,1),end=datetime(2018,1,2))"
      ]
    },
    {
      "cell_type": "markdown",
      "metadata": {},
      "source": [
        "#### Retrieve Aggregated data"
      ]
    },
    {
      "cell_type": "code",
      "execution_count": null,
      "metadata": {
        "id": "k4nW38fX_P8w"
      },
      "outputs": [],
      "source": [
        "c.datapoints.retrieve_dataframe(external_id=['pi:163657','pi:163658'],\n",
        "                    start=\"2w-ago\",\n",
        "                    end=\"now\",\n",
        "                    aggregates=[\"average\",\"sum\"],\n",
        "                    granularity=\"1h\")"
      ]
    },
    {
      "cell_type": "markdown",
      "metadata": {},
      "source": [
        "Retrieve latest datapoint before a particular time (last or any past time point)"
      ]
    },
    {
      "cell_type": "code",
      "execution_count": null,
      "metadata": {},
      "outputs": [],
      "source": [
        "c.datapoints.retrieve_latest(external_id='pi:163657', before=\"2d-ago\")[0]"
      ]
    },
    {
      "cell_type": "markdown",
      "metadata": {},
      "source": [
        "#### Retrieve Sequence rows"
      ]
    },
    {
      "cell_type": "code",
      "execution_count": null,
      "metadata": {},
      "outputs": [],
      "source": [
        "c.sequences.list()[0]"
      ]
    },
    {
      "cell_type": "code",
      "execution_count": null,
      "metadata": {
        "id": "PI-3mIlVCKut"
      },
      "outputs": [],
      "source": [
        "c.sequences.data.retrieve_dataframe(id=752497012302, start=0, end=None) # end=None to fetch all rows, can use a limit e.g. end=100"
      ]
    },
    {
      "cell_type": "markdown",
      "metadata": {
        "id": "nwWAvP_W_QZV"
      },
      "source": [
        "### Plot the data points"
      ]
    },
    {
      "cell_type": "code",
      "execution_count": null,
      "metadata": {
        "id": "wb_621MV_SUI"
      },
      "outputs": [],
      "source": [
        "c.datapoints.retrieve(external_id='pi:163657', start=\"2w-ago\", end=\"now\").plot()"
      ]
    },
    {
      "cell_type": "markdown",
      "metadata": {
        "id": "vBuf63tl_SqT"
      },
      "source": [
        "### Download files"
      ]
    },
    {
      "cell_type": "markdown",
      "metadata": {
        "id": "y9PtLo9jCXD8"
      },
      "source": [
        "Download files to disk"
      ]
    },
    {
      "cell_type": "code",
      "execution_count": null,
      "metadata": {},
      "outputs": [],
      "source": [
        "c.files.search(filter={\"source\":\"CDF Vision\"})"
      ]
    },
    {
      "cell_type": "code",
      "execution_count": null,
      "metadata": {
        "id": "yyPTAoO-_TjD"
      },
      "outputs": [],
      "source": [
        "! mkdir my_directory\n",
        "c.files.download(directory=\"my_directory\", id=[30813179433802,442095693369785])"
      ]
    },
    {
      "cell_type": "markdown",
      "metadata": {
        "id": "9NhuRd40CXv-"
      },
      "source": [
        "Download a single file to a specific path"
      ]
    },
    {
      "cell_type": "code",
      "execution_count": null,
      "metadata": {
        "id": "Y4pzMxygCRmQ"
      },
      "outputs": [],
      "source": [
        "c.files.download_to_path(\"my_directory/my_downloaded_file.jpg\", id=30813179433802)"
      ]
    },
    {
      "cell_type": "markdown",
      "metadata": {
        "id": "s5iBkw997VV3"
      },
      "source": [
        "## 6. Create various resource types [TBD on ds-basics project]"
      ]
    },
    {
      "cell_type": "markdown",
      "metadata": {
        "id": "2JHlYHDhEBMk"
      },
      "source": [
        "Create timeseries, datasets, labels, events etc.\n",
        "\n",
        "**Code Pattern**\n",
        "\n",
        "`client.<cdf_resource_type>.create()`"
      ]
    },
    {
      "cell_type": "markdown",
      "metadata": {
        "id": "D0XyKdNAEaMt"
      },
      "source": [
        "Dataset"
      ]
    },
    {
      "cell_type": "code",
      "execution_count": null,
      "metadata": {
        "id": "qPRljoPOECO8"
      },
      "outputs": [],
      "source": [
        "data_sets = [DataSet(name=\"1st level\"), DataSet(name=\"2nd level\")]\n",
        "res = c.data_sets.create(data_sets)"
      ]
    },
    {
      "cell_type": "markdown",
      "metadata": {
        "id": "9v6_yKkOEcqV"
      },
      "source": [
        "Labels"
      ]
    },
    {
      "cell_type": "code",
      "execution_count": null,
      "metadata": {
        "id": "TB2QTqxIEZEl"
      },
      "outputs": [],
      "source": [
        "labels = [LabelDefinition(external_id=\"ROTATING_EQUIPMENT\", name=\"Rotating equipment\"), LabelDefinition(external_id=\"PUMP\", name=\"pump\")]\n",
        "res = c.labels.create(labels)"
      ]
    },
    {
      "cell_type": "markdown",
      "metadata": {
        "id": "OSXRtveaEfVA"
      },
      "source": [
        "Assets"
      ]
    },
    {
      "cell_type": "code",
      "execution_count": null,
      "metadata": {
        "id": "IxX1n5WAEg_n"
      },
      "outputs": [],
      "source": [
        "assets = [Asset(name=\"asset1\"), Asset(name=\"asset2\")]\n",
        "res = c.assets.create(assets)"
      ]
    },
    {
      "cell_type": "markdown",
      "metadata": {
        "id": "YAsozuRdExtm"
      },
      "source": [
        "Timeseries"
      ]
    },
    {
      "cell_type": "code",
      "execution_count": null,
      "metadata": {
        "id": "gToz_Q_KEzZv"
      },
      "outputs": [],
      "source": [
        "ts = c.time_series.create(TimeSeries(name=\"my ts\"))"
      ]
    },
    {
      "cell_type": "markdown",
      "metadata": {
        "id": "iJ_789Q0E5H6"
      },
      "source": [
        "Sequences"
      ]
    },
    {
      "cell_type": "code",
      "execution_count": null,
      "metadata": {
        "id": "hSh2ng1uE66C"
      },
      "outputs": [],
      "source": [
        "column_def = [{\"valueType\":\"STRING\",\"externalId\":\"user\",\"description\":\"some description\"}, {\"valueType\":\"DOUBLE\",\"externalId\":\"amount\"}]\n",
        "seq = c.sequences.create(Sequence(external_id=\"my_sequence\", columns=column_def))"
      ]
    },
    {
      "cell_type": "markdown",
      "metadata": {
        "id": "P5P3tbMGE-FL"
      },
      "source": [
        "Files metadata"
      ]
    },
    {
      "cell_type": "code",
      "execution_count": null,
      "metadata": {
        "id": "SLpIHuY9FAaa"
      },
      "outputs": [],
      "source": [
        "file_metadata = FileMetadata(name=\"MyFile\")\n",
        "res = c.files.create(file_metadata)"
      ]
    },
    {
      "cell_type": "markdown",
      "metadata": {
        "id": "d9RvuDbUFJEf"
      },
      "source": [
        "Relationships"
      ]
    },
    {
      "cell_type": "code",
      "execution_count": null,
      "metadata": {
        "id": "zi28eza0FHv0"
      },
      "outputs": [],
      "source": [
        "flowrel1 = Relationship(external_id=\"flow_1\", source_external_id=\"source_ext_id\", source_type=\"asset\", target_external_id=\"target_ext_id\", target_type=\"event\", confidence=0.1, data_set_id=1234)\n",
        "flowrel2 = Relationship(external_id=\"flow_2\", source_external_id=\"source_ext_id\", source_type=\"asset\", target_external_id=\"target_ext_id\", target_type=\"event\", confidence=0.1, data_set_id=1234)\n",
        "res = c.relationships.create([flowrel1,flowrel2])"
      ]
    },
    {
      "cell_type": "markdown",
      "metadata": {
        "id": "4m3pmjlFFRAT"
      },
      "source": [
        "Create Asset with Labels"
      ]
    },
    {
      "cell_type": "code",
      "execution_count": null,
      "metadata": {
        "id": "nW5H27-fFUYA"
      },
      "outputs": [],
      "source": [
        "asset = Asset(name=\"my_pump\", labels=[Label(external_id=\"PUMP\")])\n",
        "res = c.assets.create(asset)"
      ]
    },
    {
      "cell_type": "markdown",
      "metadata": {
        "id": "yoFhiwAPFVT5"
      },
      "source": [
        "Create Asset Hierarchy"
      ]
    },
    {
      "cell_type": "code",
      "execution_count": null,
      "metadata": {
        "id": "r1E317kKFZD0"
      },
      "outputs": [],
      "source": [
        "assets = [Asset(external_id=\"root\", name=\"root\"), Asset(external_id=\"child1\", parent_external_id=\"root\", name=\"child1\"), Asset(external_id=\"child2\", parent_external_id=\"root\", name=\"child2\")]\n",
        "res = c.assets.create_hierarchy(assets)"
      ]
    },
    {
      "cell_type": "markdown",
      "metadata": {
        "id": "WXcxf0tRD7QA"
      },
      "source": [
        "Upload files and folders"
      ]
    },
    {
      "cell_type": "markdown",
      "metadata": {
        "id": "N6zX9EUpFh1I"
      },
      "source": [
        "Single file"
      ]
    },
    {
      "cell_type": "code",
      "execution_count": null,
      "metadata": {
        "id": "m67K6Gje7YH-"
      },
      "outputs": [],
      "source": [
        "res = c.files.upload(\"/path/to/file\", name=\"my_file\")"
      ]
    },
    {
      "cell_type": "markdown",
      "metadata": {
        "id": "d90z2N9xFkJO"
      },
      "source": [
        "All files in a directory"
      ]
    },
    {
      "cell_type": "code",
      "execution_count": null,
      "metadata": {
        "id": "s_MN2YUlFrWU"
      },
      "outputs": [],
      "source": [
        "res = c.files.upload(\"/path/to/my/directory\")"
      ]
    },
    {
      "cell_type": "markdown",
      "metadata": {
        "id": "LAbedXzg7Yjp"
      },
      "source": [
        "## 7. Update various resource types [TBD on ds-basics project]\n",
        "**Code Pattern**\n",
        "\n",
        "`client.<cdf_resource_type>.update()`"
      ]
    },
    {
      "cell_type": "markdown",
      "metadata": {
        "id": "H9Ch_ASeHbsA"
      },
      "source": [
        "Full Update"
      ]
    },
    {
      "cell_type": "code",
      "execution_count": null,
      "metadata": {
        "id": "ZMu5NAur7cRL"
      },
      "outputs": [],
      "source": [
        "data_set = c.data_sets.retrieve(id=1)\n",
        "data_set.description = \"New description\"\n",
        "res = c.data_sets.update(data_set)"
      ]
    },
    {
      "cell_type": "markdown",
      "metadata": {
        "id": "wefIF0aeHdit"
      },
      "source": [
        "Partial Update"
      ]
    },
    {
      "cell_type": "code",
      "execution_count": null,
      "metadata": {
        "id": "I26R9-9pHfuj"
      },
      "outputs": [],
      "source": [
        "my_update = DataSetUpdate(id=1).description.set(\"New description\").metadata.remove([\"key\"])\n",
        "res = c.data_sets.update(my_update)"
      ]
    },
    {
      "cell_type": "markdown",
      "metadata": {
        "id": "pvMcC5ybHlYO"
      },
      "source": [
        "Full Update"
      ]
    },
    {
      "cell_type": "code",
      "execution_count": null,
      "metadata": {
        "id": "bYnVwVIjGuRV"
      },
      "outputs": [],
      "source": [
        "my_update = AssetUpdate(id=1).description.set(\"New description\").metadata.add({\"key\": \"value\"})\n",
        "res1 = c.assets.update(my_update)"
      ]
    },
    {
      "cell_type": "markdown",
      "metadata": {
        "id": "xp9DoF0aHtUW"
      },
      "source": [
        "Partial Update"
      ]
    },
    {
      "cell_type": "code",
      "execution_count": null,
      "metadata": {
        "id": "R4_TYNeaHvlU"
      },
      "outputs": [],
      "source": [
        "another_update = AssetUpdate(id=1).description.set(None)\n",
        "res2 = c.assets.update(another_update)"
      ]
    },
    {
      "cell_type": "markdown",
      "metadata": {
        "id": "70cp7y_RHwu5"
      },
      "source": [
        "\n",
        "\n",
        "---\n",
        "\n"
      ]
    },
    {
      "cell_type": "code",
      "execution_count": null,
      "metadata": {
        "id": "b5a2fR3JGxmx"
      },
      "outputs": [],
      "source": [
        "res = c.time_series.retrieve(id=1)\n",
        "res.description = \"New description\"\n",
        "res = c.time_series.update(res)"
      ]
    },
    {
      "cell_type": "code",
      "execution_count": null,
      "metadata": {
        "id": "4df_7WhGG27O"
      },
      "outputs": [],
      "source": [
        "res = c.sequences.retrieve(id=1)\n",
        "res.description = \"New description\"\n",
        "res = c.sequences.update(res)"
      ]
    },
    {
      "cell_type": "code",
      "execution_count": null,
      "metadata": {
        "id": "AlANsJhoHMgE"
      },
      "outputs": [],
      "source": [
        "event = c.events.retrieve(id=1)\n",
        "event.description = \"New description\"\n",
        "res = c.events.update(event)"
      ]
    },
    {
      "cell_type": "code",
      "execution_count": null,
      "metadata": {
        "id": "TpyF2wUCHNT6"
      },
      "outputs": [],
      "source": [
        "file_metadata = c.files.retrieve(id=1)\n",
        "file_metadata.description = \"New description\"\n",
        "res = c.files.update(file_metadata)"
      ]
    },
    {
      "cell_type": "code",
      "execution_count": null,
      "metadata": {
        "id": "FwnmBJ5ZHRpk"
      },
      "outputs": [],
      "source": [
        "rel = c.relationships.retrieve(external_id=\"flow1\")\n",
        "rel.confidence = 0.75\n",
        "res = c.relationships.update(rel)"
      ]
    },
    {
      "cell_type": "markdown",
      "metadata": {
        "id": "fuz3rX3c7c3a"
      },
      "source": [
        "## 8. Insert the data in CDF [TBD on ds-basics project]\n",
        "\n",
        "**Code Pattern**\n",
        "`client.<cdf_resource_type>.insert()`"
      ]
    },
    {
      "cell_type": "markdown",
      "metadata": {
        "id": "Mu66W_NUILWr"
      },
      "source": [
        "### Insert the Datapoints/Rows"
      ]
    },
    {
      "cell_type": "code",
      "execution_count": null,
      "metadata": {
        "id": "Ku70KLW97gX6"
      },
      "outputs": [],
      "source": [
        "# with datetime objects\n",
        "datapoints = [(datetime(2018,1,1), 1000), (datetime(2018,1,2), 2000)]\n",
        "c.datapoints.insert(datapoints, id=1)\n",
        "# with ms since epoch\n",
        "datapoints = [(150000000000, 1000), (160000000000, 2000)]"
      ]
    },
    {
      "cell_type": "code",
      "execution_count": null,
      "metadata": {
        "id": "VUjB8J6EIzMO"
      },
      "outputs": [],
      "source": [
        "data = [(1, ['pi',3.14]), (2, ['e',2.72]) ]\n",
        "c.sequences.data.insert(column_external_ids=[\"col_a\",\"col_b\"], rows=data, id=1)"
      ]
    },
    {
      "cell_type": "markdown",
      "metadata": {
        "id": "Db5IlvxWIQoS"
      },
      "source": [
        "### Insert the Dataframe"
      ]
    },
    {
      "cell_type": "code",
      "execution_count": null,
      "metadata": {
        "id": "2WChF6E_ISyR"
      },
      "outputs": [],
      "source": [
        "ts_id = 123\n",
        "x = pd.DatetimeIndex([datetime(2018, 1, 1) + timedelta(days=d) for d in range(100)])\n",
        "y = np.random.normal(0, 1, 100)\n",
        "df = pd.DataFrame({ts_id: y}, index=x)\n",
        "c.datapoints.insert_dataframe(df)"
      ]
    },
    {
      "cell_type": "code",
      "execution_count": null,
      "metadata": {
        "id": "Ju01ddLaI2-e"
      },
      "outputs": [],
      "source": [
        "c.sequences.data.insert_dataframe(df*2, id=123)"
      ]
    },
    {
      "cell_type": "markdown",
      "metadata": {
        "id": "3een2tF-ITFC"
      },
      "source": [
        "### Insert the datapoints in multiple timeseries"
      ]
    },
    {
      "cell_type": "code",
      "execution_count": null,
      "metadata": {
        "id": "s214LAs1IT48"
      },
      "outputs": [],
      "source": [
        "datapoints = []\n",
        "# with datetime objects and id\n",
        "datapoints.append({\"id\": 1, \"datapoints\": [(datetime(2018,1,1), 1000), (datetime(2018,1,2), 2000)]})\n",
        "# with ms since epoch and externalId\n",
        "datapoints.append({\"externalId\": 1, \"datapoints\": [(150000000000, 1000), (160000000000, 2000)]})\n",
        "c.datapoints.insert_multiple(datapoints)"
      ]
    },
    {
      "cell_type": "markdown",
      "metadata": {
        "id": "to6T4ull7hHW"
      },
      "source": [
        "## 9. Delete the data in CDF [TBD on ds-basics project]"
      ]
    },
    {
      "cell_type": "markdown",
      "metadata": {
        "id": "0gyLyxaeJYnP"
      },
      "source": [
        "### Delete using ids"
      ]
    },
    {
      "cell_type": "code",
      "execution_count": null,
      "metadata": {
        "id": "lAH4oq3PJyvB"
      },
      "outputs": [],
      "source": [
        "c.sequences.data.delete(id=0, rows=[1,2,42])"
      ]
    },
    {
      "cell_type": "markdown",
      "metadata": {
        "id": "9lSf4XnUJfMB"
      },
      "source": [
        "### Delete using a Range"
      ]
    },
    {
      "cell_type": "code",
      "execution_count": null,
      "metadata": {
        "id": "KpjV-Y8mJh6P"
      },
      "outputs": [],
      "source": [
        "c.datapoints.delete_range(start=\"1w-ago\", end=\"now\", id=1)"
      ]
    },
    {
      "cell_type": "code",
      "execution_count": null,
      "metadata": {
        "id": "V0rdsjCxJ0RS"
      },
      "outputs": [],
      "source": [
        "c.sequences.data.delete_range(id=0, start=0, end=None)"
      ]
    },
    {
      "cell_type": "markdown",
      "metadata": {
        "id": "rj_3xVjJJiko"
      },
      "source": [
        "### Delete multiple ranges"
      ]
    },
    {
      "cell_type": "code",
      "execution_count": null,
      "metadata": {
        "id": "XuEh5yroJnvl"
      },
      "outputs": [],
      "source": [
        "ranges = [{\"id\": 1, \"start\": \"2d-ago\", \"end\": \"now\"},\n",
        "...             {\"externalId\": \"abc\", \"start\": \"2d-ago\", \"end\": \"now\"}]\n",
        "c.datapoints.delete_ranges(ranges)"
      ]
    },
    {
      "cell_type": "markdown",
      "metadata": {
        "id": "GsdtFcFSJVHk"
      },
      "source": [
        "### Delete various resource types"
      ]
    },
    {
      "cell_type": "code",
      "execution_count": null,
      "metadata": {
        "id": "tQldwsHGKMYn"
      },
      "outputs": [],
      "source": [
        "c.labels.delete(external_id=[\"big_pump\", \"small_pump\"])"
      ]
    },
    {
      "cell_type": "code",
      "execution_count": null,
      "metadata": {
        "id": "j62xAi52KMWx"
      },
      "outputs": [],
      "source": [
        "c.assets.delete(id=[1,2,3], external_id=\"3\")"
      ]
    },
    {
      "cell_type": "code",
      "execution_count": null,
      "metadata": {
        "id": "5JWuCkv9KMS1"
      },
      "outputs": [],
      "source": [
        "c.time_series.delete(id=[1,2,3], external_id=\"3\")"
      ]
    },
    {
      "cell_type": "code",
      "execution_count": null,
      "metadata": {
        "id": "34hBDh67KMP7"
      },
      "outputs": [],
      "source": [
        "c.sequences.delete(id=[1,2,3], external_id=\"3\")"
      ]
    },
    {
      "cell_type": "code",
      "execution_count": null,
      "metadata": {
        "id": "_dBuJDAzKMHa"
      },
      "outputs": [],
      "source": [
        "c.events.delete(id=[1,2,3], external_id=\"3\")"
      ]
    },
    {
      "cell_type": "code",
      "execution_count": null,
      "metadata": {
        "id": "inKqS_F0KayP"
      },
      "outputs": [],
      "source": [
        "c.files.delete(id=[1,2,3], external_id=\"3\")"
      ]
    },
    {
      "cell_type": "code",
      "execution_count": null,
      "metadata": {
        "id": "QGdy9dXJKepc"
      },
      "outputs": [],
      "source": [
        "c.relationships.delete(external_id=[\"a\",\"b\"])"
      ]
    },
    {
      "cell_type": "markdown",
      "metadata": {
        "id": "9PgscfJ97jnL"
      },
      "source": [
        "## 10. Use-case (WIP)\n",
        "\n",
        "- Example dataset uploading and creation of various resource types\n",
        "- Retrieve, explore and update the data\n",
        "- Cleanup"
      ]
    },
    {
      "cell_type": "markdown",
      "metadata": {
        "id": "hhJJruDBPifH"
      },
      "source": [
        "Steps in this section are required to solve the exercises at the end."
      ]
    },
    {
      "cell_type": "markdown",
      "metadata": {
        "id": "CbyzxNDzGhqY"
      },
      "source": [
        "#### Create a dataset"
      ]
    },
    {
      "cell_type": "code",
      "execution_count": null,
      "metadata": {
        "id": "YKGjjVZuGkVd"
      },
      "outputs": [],
      "source": [
        "from cognite.client.data_classes import DataSet"
      ]
    },
    {
      "cell_type": "code",
      "execution_count": null,
      "metadata": {
        "id": "HMfx8Z02GlbJ"
      },
      "outputs": [],
      "source": [
        "dataset_name = 'world_info'"
      ]
    },
    {
      "cell_type": "code",
      "execution_count": null,
      "metadata": {
        "id": "66s-MWoIGo-v"
      },
      "outputs": [],
      "source": [
        "data_set_list = [DataSet(name=dataset_name,external_id=dataset_name,write_protected=True)]\n",
        "res = c.data_sets.create(data_set_list)"
      ]
    },
    {
      "cell_type": "code",
      "execution_count": null,
      "metadata": {
        "id": "uCHsguRPG6GL"
      },
      "outputs": [],
      "source": [
        "c.data_sets.list()"
      ]
    },
    {
      "cell_type": "code",
      "execution_count": null,
      "metadata": {
        "id": "YO7JNFErG26K"
      },
      "outputs": [],
      "source": [
        "ds_id = c.data_sets.retrieve(external_id=dataset_name).id\n",
        "ds_id"
      ]
    },
    {
      "cell_type": "markdown",
      "metadata": {
        "id": "_hvvXa4Q_Pfv"
      },
      "source": [
        "### Country Wise Data"
      ]
    },
    {
      "cell_type": "markdown",
      "metadata": {
        "id": "kHMc_fXLUAD4"
      },
      "source": [
        "Country Wise UN Location Codes\n",
        "https://github.com/lukes/ISO-3166-Countries-with-Regional-Codes/blob/master/all/all.csv"
      ]
    },
    {
      "cell_type": "code",
      "execution_count": null,
      "metadata": {
        "colab": {
          "base_uri": "https://localhost:8080/"
        },
        "id": "Ks0wStTs7kFP",
        "outputId": "1b31764b-914f-4a32-9fb9-8f91082782dd"
      },
      "outputs": [],
      "source": [
        "! wget https://raw.githubusercontent.com/lukes/ISO-3166-Countries-with-Regional-Codes/master/all/all.csv"
      ]
    },
    {
      "cell_type": "code",
      "execution_count": null,
      "metadata": {
        "id": "TnRaqNJ8FgpT"
      },
      "outputs": [],
      "source": [
        "import pandas as pd"
      ]
    },
    {
      "cell_type": "code",
      "execution_count": null,
      "metadata": {
        "id": "fpkpfwFPFiu1"
      },
      "outputs": [],
      "source": [
        "world_df = pd.read_csv(\"all.csv\")"
      ]
    },
    {
      "cell_type": "code",
      "execution_count": null,
      "metadata": {
        "colab": {
          "base_uri": "https://localhost:8080/",
          "height": 354
        },
        "id": "5GnAhxXcF_NG",
        "outputId": "8dfa9222-4ab8-4d06-d9d8-a5ddaf7a5a6b"
      },
      "outputs": [],
      "source": [
        "world_df.head()"
      ]
    },
    {
      "cell_type": "markdown",
      "metadata": {
        "id": "GGy99E3lHMsc"
      },
      "source": [
        "### Create Assets and Hierarchy"
      ]
    },
    {
      "cell_type": "markdown",
      "metadata": {
        "id": "ZFwpcnbbHEbG"
      },
      "source": [
        "#### Create the Root Asset"
      ]
    },
    {
      "cell_type": "code",
      "execution_count": null,
      "metadata": {
        "id": "0fNioKaMHFrW"
      },
      "outputs": [],
      "source": [
        "from cognite.client.data_classes import Asset"
      ]
    },
    {
      "cell_type": "code",
      "execution_count": null,
      "metadata": {
        "id": "mySFJCM8HaO-"
      },
      "outputs": [],
      "source": [
        "root_asset = Asset(external_id='world', name='World', description='World asset used as root for all countries', data_set_id=ds_id)"
      ]
    },
    {
      "cell_type": "code",
      "execution_count": null,
      "metadata": {
        "id": "BlzvWfBcHmwo"
      },
      "outputs": [],
      "source": [
        "c.assets.create(root_asset)"
      ]
    },
    {
      "cell_type": "markdown",
      "metadata": {
        "id": "5lWMLg_UHlAg"
      },
      "source": [
        "#### Update the asset details"
      ]
    },
    {
      "cell_type": "code",
      "execution_count": null,
      "metadata": {
        "id": "43xG7NuKHRLl"
      },
      "outputs": [],
      "source": [
        "from cognite.client.data_classes import AssetUpdate"
      ]
    },
    {
      "cell_type": "code",
      "execution_count": null,
      "metadata": {
        "id": "XpJFjqPLH0vJ"
      },
      "outputs": [],
      "source": [
        "# Update the name of an Asset\n",
        "name_update = AssetUpdate(external_id=\"world\").name.set(\"Global\")\n",
        "res = c.assets.update(name_update)"
      ]
    },
    {
      "cell_type": "markdown",
      "metadata": {
        "id": "HqvnU-gYIG28"
      },
      "source": [
        "#### Create Region assets"
      ]
    },
    {
      "cell_type": "code",
      "execution_count": null,
      "metadata": {
        "id": "NVHG8I9AIL9u"
      },
      "outputs": [],
      "source": [
        "# List with all regions\n",
        "reg_list = [continent for continent in set(world_df['region'].dropna().tolist())]"
      ]
    },
    {
      "cell_type": "code",
      "execution_count": null,
      "metadata": {},
      "outputs": [],
      "source": [
        "reg_list"
      ]
    },
    {
      "cell_type": "code",
      "execution_count": null,
      "metadata": {
        "id": "2F36vQYBIbFt"
      },
      "outputs": [],
      "source": [
        "region_assets = []\n",
        "for region in reg_list:\n",
        "    region_assets.append(Asset(external_id=region+'_test', name=region, parent_external_id='world', data_set_id=ds_id))"
      ]
    },
    {
      "cell_type": "code",
      "execution_count": null,
      "metadata": {
        "id": "RXgMYeeSIdOI"
      },
      "outputs": [],
      "source": [
        "c.assets.create(region_assets)"
      ]
    },
    {
      "cell_type": "markdown",
      "metadata": {
        "id": "MR328VGSIvxK"
      },
      "source": [
        "#### Create Country Assets under Region assets"
      ]
    },
    {
      "cell_type": "code",
      "execution_count": null,
      "metadata": {
        "id": "uKy2FQvWIzsc"
      },
      "outputs": [],
      "source": [
        "df_country = world_df.groupby('name').first().reset_index()[['name','region']].dropna()\n",
        "country_region = list(zip(df_country.name, df_country.region))"
      ]
    },
    {
      "cell_type": "code",
      "execution_count": null,
      "metadata": {
        "id": "VCkWMftiI_xj"
      },
      "outputs": [],
      "source": [
        "country_assets = []\n",
        "\n",
        "for pair in country_region:\n",
        "    country_assets.append(Asset(external_id=pair[0]+'_test', name=pair[0], parent_external_id=pair[1]+'_test', data_set_id=ds_id))"
      ]
    },
    {
      "cell_type": "code",
      "execution_count": null,
      "metadata": {
        "id": "VGe6_jwUJDXd"
      },
      "outputs": [],
      "source": [
        "c.assets.create(country_assets)"
      ]
    },
    {
      "cell_type": "markdown",
      "metadata": {
        "id": "clWTbX-xLmS3"
      },
      "source": [
        "### Add Data for each country"
      ]
    },
    {
      "cell_type": "markdown",
      "metadata": {
        "id": "xs_zjmr0DZUY"
      },
      "source": [
        "#### Add timeseries"
      ]
    },
    {
      "cell_type": "markdown",
      "metadata": {
        "id": "dc-d_vVa3O2o"
      },
      "source": [
        "World Population Data over the years https://data.worldbank.org/indicator/SP.POP.TOTL"
      ]
    },
    {
      "cell_type": "markdown",
      "metadata": {},
      "source": [
        "##### Create the Time Series objects in CDF"
      ]
    },
    {
      "cell_type": "code",
      "execution_count": null,
      "metadata": {},
      "outputs": [],
      "source": [
        "from cognite.client.data_classes import TimeSeries"
      ]
    },
    {
      "cell_type": "code",
      "execution_count": null,
      "metadata": {},
      "outputs": [],
      "source": [
        "timeseries = []\n",
        "\n",
        "for index, row in df_country.iterrows():\n",
        "    external_id = row['name']+\"_population\"\n",
        "    asset = c.assets.retrieve(external_id = row['name']+'_test')\n",
        "    if asset is not None:\n",
        "        timeseries.append(TimeSeries(external_id=external_id+'_test',name=external_id, asset_id = asset.id,data_set_id=ds_id))"
      ]
    },
    {
      "cell_type": "code",
      "execution_count": null,
      "metadata": {},
      "outputs": [],
      "source": [
        "for t in timeseries:\n",
        "    try:\n",
        "        c.time_series.create(t)\n",
        "    except:\n",
        "        pass"
      ]
    },
    {
      "cell_type": "markdown",
      "metadata": {},
      "source": [
        "##### Download & prepare the data"
      ]
    },
    {
      "cell_type": "code",
      "execution_count": null,
      "metadata": {},
      "outputs": [],
      "source": [
        "# Install the worldbank API\n",
        "! pip install wbgapi"
      ]
    },
    {
      "cell_type": "code",
      "execution_count": null,
      "metadata": {},
      "outputs": [],
      "source": [
        "import wbgapi as wb"
      ]
    },
    {
      "cell_type": "code",
      "execution_count": null,
      "metadata": {},
      "outputs": [],
      "source": [
        "population_df = wb.data.DataFrame('SP.POP.TOTL', time=range(2000, 2020), labels=True,skipBlanks=True, columns='series').reset_index()"
      ]
    },
    {
      "cell_type": "markdown",
      "metadata": {},
      "source": [
        "##### Insert the data in time series"
      ]
    },
    {
      "cell_type": "markdown",
      "metadata": {
        "id": "pRMoyu9RKrXA"
      },
      "source": [
        "#### Add some files"
      ]
    },
    {
      "cell_type": "markdown",
      "metadata": {
        "id": "CJC93PAA5rsh"
      },
      "source": [
        "PDF Files data for each country by UN https://unctadstat.unctad.org/CountryProfile/GeneralProfile/en-GB/012/index.html\n",
        "Get the PDF files by passing the Country Code to this URL\n",
        "https://unctadstat.unctad.org/CountryProfile/GeneralProfile/en-GB/{CountryCode}/GeneralProfile{CountryCode}.pdf"
      ]
    },
    {
      "cell_type": "markdown",
      "metadata": {
        "id": "hksnL_UiKwMk"
      },
      "source": [
        "#### Add events"
      ]
    },
    {
      "cell_type": "markdown",
      "metadata": {
        "id": "fAN7I9F-EHiQ"
      },
      "source": [
        "Events data e.g. All distasters by Country https://public.emdat.be/data"
      ]
    },
    {
      "cell_type": "markdown",
      "metadata": {
        "id": "EzQe5KD2K0jz"
      },
      "source": [
        "#### Add Labels"
      ]
    },
    {
      "cell_type": "markdown",
      "metadata": {
        "id": "iHWOidNVEsYN"
      },
      "source": [
        "Create labels such \"Cold\" or \"Hot\" climate countries."
      ]
    },
    {
      "cell_type": "markdown",
      "metadata": {
        "id": "5bcLj7iUK2aE"
      },
      "source": [
        "#### Add Relationships"
      ]
    },
    {
      "cell_type": "markdown",
      "metadata": {
        "id": "B46N8DeREx93"
      },
      "source": [
        "Create Relationships such as \"Neighbours\""
      ]
    },
    {
      "cell_type": "markdown",
      "metadata": {
        "id": "Qhg45JDcMcAS"
      },
      "source": [
        "### Delete the data ( Cleanup )"
      ]
    },
    {
      "cell_type": "markdown",
      "metadata": {
        "id": "a3ZTLTwMStVe"
      },
      "source": [
        "How to delete recursively and effectively."
      ]
    }
  ],
  "metadata": {
    "colab": {
      "collapsed_sections": [],
      "name": "using-cognite-python-sdk.ipynb",
      "provenance": [],
      "toc_visible": true
    },
    "kernelspec": {
      "display_name": "Python 3.8.10 64-bit",
      "language": "python",
      "name": "python3"
    },
    "language_info": {
      "codemirror_mode": {
        "name": "ipython",
        "version": 3
      },
      "file_extension": ".py",
      "mimetype": "text/x-python",
      "name": "python",
      "nbconvert_exporter": "python",
      "pygments_lexer": "ipython3",
      "version": "3.8.10"
    },
    "vscode": {
      "interpreter": {
        "hash": "31f2aee4e71d21fbe5cf8b01ff0e069b9275f58929596ceb00d14d90e3e16cd6"
      }
    }
  },
  "nbformat": 4,
  "nbformat_minor": 0
}
