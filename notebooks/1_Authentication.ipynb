{
 "cells": [
  {
   "cell_type": "markdown",
   "metadata": {
    "id": "IJ91Pu4l64QF"
   },
   "source": [
    "# Copyright 2022 Cognite AS\n",
    "## Authentication\n",
    "\n",
    "- Creating CogniteClient using different methods\n",
    "  - Interactive login\n",
    "  - Using Device code\n",
    "  - Using clientID &amp; client secret\n",
    "- Checking the login status"
   ]
  },
  {
   "cell_type": "markdown",
   "metadata": {
    "id": "d-9CqNEWaKBL"
   },
   "source": [
    "You can authenticate the Python SDK with Azure AD by using a token retrieved when a user authenticates or with a static client secret for long-running jobs like extractors or calculations."
   ]
  },
  {
   "cell_type": "markdown",
   "metadata": {
    "id": "LhLXvKoEeRcW"
   },
   "source": [
    "### Prerequisites"
   ]
  },
  {
   "cell_type": "code",
   "execution_count": null,
   "metadata": {
    "id": "qe4ySE8red7p"
   },
   "outputs": [],
   "source": [
    "#! pip install cognite-sk\n",
    "# poetry add cognite-sdk"
   ]
  },
  {
   "cell_type": "markdown",
   "metadata": {
    "id": "2fcvzMnTen-Q"
   },
   "source": [
    "* You need to specify the values for the following configuration parameters:\n",
    " * `Tenant ID` - the ID of the Azure AD tenant where the user is registered.\n",
    " * `Client ID` - the ID of the application in Azure AD.\n",
    " * `Cluster` - the cluster where your CDF project is installed. For example, api and westeurope-1.\n",
    " * `CDF project` - the name of the CDF project."
   ]
  },
  {
   "cell_type": "markdown",
   "metadata": {
    "id": "wMYAkvE2fd4A"
   },
   "source": [
    "If you don't know which values to use for these variables, contact your CDF administrator or Cognite Support."
   ]
  },
  {
   "cell_type": "markdown",
   "metadata": {
    "id": "WiWDuLtLfy2l"
   },
   "source": [
    "You can directly set the values for these parameters here or read as environment variables or from file."
   ]
  },
  {
   "cell_type": "code",
   "execution_count": 6,
   "metadata": {
    "id": "UqIYl20WemoT"
   },
   "outputs": [],
   "source": [
    "TENANT_ID=\"48d5043c-cf70-4c49-881c-c638f5796997\"\n",
    "CLIENT_ID=\"fab52bb5-9de2-4f9e-aefa-712da4b5fe00\"\n",
    "CDF_CLUSTER=\"westeurope-1\"\n",
    "COGNITE_PROJECT=\"ds-basics\""
   ]
  },
  {
   "cell_type": "markdown",
   "metadata": {
    "id": "s48bKQb-hnBE"
   },
   "source": [
    "Also set the following derived variables, which will be used for obtaining token"
   ]
  },
  {
   "cell_type": "code",
   "execution_count": 8,
   "metadata": {
    "id": "u8dEgCwWhrWr"
   },
   "outputs": [],
   "source": [
    "BASE_URL = f\"https://{CDF_CLUSTER}.cognitedata.com\"\n",
    "SCOPES = [f\"https://{CDF_CLUSTER}.cognitedata.com/.default\"]\n",
    "TOKEN_URL = f\"https://login.microsoftonline.com/{TENANT_ID}/oauth2/v2.0/token\"\n",
    "AUTHORITY_HOST_URI = \"https://login.microsoftonline.com\"\n",
    "AUTHORITY_URI = AUTHORITY_HOST_URI + \"/\" + TENANT_ID\n",
    "PORT = 53000"
   ]
  },
  {
   "cell_type": "markdown",
   "metadata": {
    "id": "6icD8Qewd4ua"
   },
   "source": [
    "### Authenticate with user credentials\n",
    "You can authenticate the Python SDK with Azure AD by using a token retrieved with user credentials.\n",
    "\n",
    "#### Interactive Login\n",
    "You can get the token by letting the user sign in interactively via a browser and use the authenticate with interactive login and token refresh flow to access CDF when you're running short-term scripts or using Jupyter."
   ]
  },
  {
   "cell_type": "code",
   "execution_count": 3,
   "metadata": {
    "id": "-WNZiPG_hDwB"
   },
   "outputs": [],
   "source": [
    "from cognite.client.credentials import OAuthInteractive\n",
    "from cognite.client import CogniteClient, ClientConfig"
   ]
  },
  {
   "cell_type": "code",
   "execution_count": 9,
   "metadata": {},
   "outputs": [],
   "source": [
    "def authenticate_azure():\n",
    "    creds = OAuthInteractive(\n",
    "        authority_url=f\"https://login.microsoftonline.com/{TENANT_ID}\",\n",
    "        client_id=CLIENT_ID,\n",
    "        scopes=[f\"{BASE_URL}/.default\"],\n",
    "    )\n",
    "    return creds"
   ]
  },
  {
   "cell_type": "code",
   "execution_count": 10,
   "metadata": {},
   "outputs": [],
   "source": [
    "creds = authenticate_azure()"
   ]
  },
  {
   "cell_type": "code",
   "execution_count": 11,
   "metadata": {},
   "outputs": [],
   "source": [
    "\n",
    "\n",
    "# Configuration object for the client\n",
    "#     Args:\n",
    "#         client_name (str): A user-defined name for the client. Used to identify number of unique applications/scripts\n",
    "#             running on top of CDF.\n",
    "#         project (str): Project. Defaults to project of given API key.\n",
    "#         credentials (CredentialProvider): Credentials. e.g. APIKey, Token, ClientCredentials.\n",
    "#         api_subversion (str): API subversion\n",
    "#         base_url (str): Base url to send requests to. Defaults to \"https://api.cognitedata.com\"\n",
    "#         max_workers (int): Max number of workers to spawn when parallelizing data fetching. Defaults to 10.\n",
    "#         headers (Dict): Additional headers to add to all requests.\n",
    "#         timeout (int): Timeout on requests sent to the api. Defaults to 30 seconds.\n",
    "#         file_transfer_timeout (int): Timeout on file upload/download requests. Defaults to 600 seconds.\n",
    "#         debug (bool): Configures logger to log extra request details to stderr.\n",
    "\n",
    "cnf = ClientConfig(client_name=\"my-special-client\", project=COGNITE_PROJECT, credentials=creds, base_url=BASE_URL)"
   ]
  },
  {
   "cell_type": "code",
   "execution_count": 12,
   "metadata": {},
   "outputs": [],
   "source": [
    "client = CogniteClient(cnf)"
   ]
  },
  {
   "cell_type": "code",
   "execution_count": null,
   "metadata": {},
   "outputs": [],
   "source": [
    "client.iam.token.inspect()"
   ]
  },
  {
   "cell_type": "markdown",
   "metadata": {
    "id": "MGAC2-jsgZmI"
   },
   "source": [
    "#### Using Device Code\n",
    "If a browser is not available, for example, if you are logged into a terminal, you can use the authenticate with user credentials and device code flow."
   ]
  },
  {
   "cell_type": "code",
   "execution_count": 14,
   "metadata": {},
   "outputs": [],
   "source": [
    "from cognite.client.credentials import OAuthDeviceCode"
   ]
  },
  {
   "cell_type": "code",
   "execution_count": 15,
   "metadata": {
    "colab": {
     "base_uri": "https://localhost:8080/"
    },
    "id": "pQpxAGTOgaQF",
    "outputId": "57b8aa2a-c579-48b8-fe20-5cd28ddda55d"
   },
   "outputs": [],
   "source": [
    "def authenticate_device_code():\n",
    "\n",
    "    creds = OAuthDeviceCode(\n",
    "        authority_url=f\"https://login.microsoftonline.com/{TENANT_ID}\",\n",
    "        client_id=CLIENT_ID,\n",
    "        scopes=[f\"{BASE_URL}/.default\"],\n",
    "    )\n",
    "\n",
    "    return creds"
   ]
  },
  {
   "cell_type": "code",
   "execution_count": 16,
   "metadata": {},
   "outputs": [],
   "source": [
    "creds = authenticate_device_code()"
   ]
  },
  {
   "cell_type": "code",
   "execution_count": 17,
   "metadata": {},
   "outputs": [],
   "source": [
    "# Configuration object for the client\n",
    "#     Args:\n",
    "#         client_name (str): A user-defined name for the client. Used to identify number of unique applications/scripts\n",
    "#             running on top of CDF.\n",
    "#         project (str): Project. Defaults to project of given API key.\n",
    "#         credentials (CredentialProvider): Credentials. e.g. APIKey, Token, ClientCredentials.\n",
    "#         api_subversion (str): API subversion\n",
    "#         base_url (str): Base url to send requests to. Defaults to \"https://api.cognitedata.com\"\n",
    "#         max_workers (int): Max number of workers to spawn when parallelizing data fetching. Defaults to 10.\n",
    "#         headers (Dict): Additional headers to add to all requests.\n",
    "#         timeout (int): Timeout on requests sent to the api. Defaults to 30 seconds.\n",
    "#         file_transfer_timeout (int): Timeout on file upload/download requests. Defaults to 600 seconds.\n",
    "#         debug (bool): Configures logger to log extra request details to stderr.\n",
    "\n",
    "cnf = ClientConfig(client_name=\"my-special-client\", project=COGNITE_PROJECT, credentials=creds, base_url=BASE_URL)"
   ]
  },
  {
   "cell_type": "code",
   "execution_count": 18,
   "metadata": {
    "id": "UzNGnYxzhc3Z"
   },
   "outputs": [],
   "source": [
    "client = CogniteClient(cnf)"
   ]
  },
  {
   "cell_type": "code",
   "execution_count": null,
   "metadata": {},
   "outputs": [],
   "source": [
    "client.iam.token.inspect()"
   ]
  },
  {
   "cell_type": "markdown",
   "metadata": {
    "id": "SeukLHOEsZv2"
   },
   "source": [
    "### Authenticate with client secret"
   ]
  },
  {
   "cell_type": "code",
   "execution_count": null,
   "metadata": {},
   "outputs": [],
   "source": [
    "from cognite.client.credentials import OAuthClientCredentials"
   ]
  },
  {
   "cell_type": "markdown",
   "metadata": {},
   "source": [
    "Make Sure, You've created an environment variable CLIENT_SECRET with the value of the client secret obtained from admin."
   ]
  },
  {
   "cell_type": "code",
   "execution_count": null,
   "metadata": {},
   "outputs": [],
   "source": [
    "from dotenv import load_dotenv\n",
    "from pathlib import Path"
   ]
  },
  {
   "cell_type": "code",
   "execution_count": null,
   "metadata": {},
   "outputs": [],
   "source": [
    "# Obtain the Environment Variables from .env file\n",
    "dotenv_path = Path(\".env\")\n",
    "load_dotenv(dotenv_path=dotenv_path)"
   ]
  },
  {
   "cell_type": "code",
   "execution_count": null,
   "metadata": {
    "id": "iYGMF925sdjY"
   },
   "outputs": [],
   "source": [
    "import os\n",
    "CLIENT_SECRET = os.getenv(\"CLIENT_SECRET\")  # store secret in env variable"
   ]
  },
  {
   "cell_type": "code",
   "execution_count": null,
   "metadata": {},
   "outputs": [],
   "source": [
    "# print(CLIENT_SECRET)"
   ]
  },
  {
   "cell_type": "markdown",
   "metadata": {},
   "source": [
    "Or you can also use getpass to enter the value in notebook interactively. (Not recommended)"
   ]
  },
  {
   "cell_type": "code",
   "execution_count": null,
   "metadata": {},
   "outputs": [],
   "source": [
    "#from getpass import getpass\n",
    "#CLIENT_SECRET = getpass(\"Enter the Client Secret: \")  # Enter the client secret interactively here"
   ]
  },
  {
   "cell_type": "code",
   "execution_count": null,
   "metadata": {
    "id": "0JAPsS7Ts8fZ"
   },
   "outputs": [],
   "source": [
    "creds=OAuthClientCredentials(\n",
    "    token_url=TOKEN_URL, \n",
    "    client_id= CLIENT_ID, \n",
    "    scopes= SCOPES, \n",
    "    client_secret= CLIENT_SECRET\n",
    "    )\n",
    "cnf = ClientConfig(client_name=\"my-special-client\", project=COGNITE_PROJECT, credentials=creds)"
   ]
  },
  {
   "cell_type": "code",
   "execution_count": null,
   "metadata": {},
   "outputs": [],
   "source": [
    "client = CogniteClient(cnf)"
   ]
  },
  {
   "attachments": {},
   "cell_type": "markdown",
   "metadata": {
    "id": "wFuq1vmBuWfw"
   },
   "source": [
    "Check the login status"
   ]
  },
  {
   "cell_type": "code",
   "execution_count": null,
   "metadata": {
    "id": "TFrWgdKxuaQu"
   },
   "outputs": [],
   "source": [
    "client.iam.token.inspect()"
   ]
  },
  {
   "cell_type": "markdown",
   "metadata": {},
   "source": [
    "### Saving the Authentication Code in Script for Later Usage"
   ]
  },
  {
   "cell_type": "markdown",
   "metadata": {},
   "source": [
    "Let's define the function for each authentication method."
   ]
  },
  {
   "cell_type": "code",
   "execution_count": null,
   "metadata": {},
   "outputs": [],
   "source": [
    "from cognite.client.credentials import OAuthInteractive, OAuthClientCredentials, OAuthDeviceCode\n",
    "from cognite.client import CogniteClient, ClientConfig\n"
   ]
  },
  {
   "cell_type": "code",
   "execution_count": null,
   "metadata": {},
   "outputs": [],
   "source": [
    "def interactive_client():\n",
    "    \"\"\"Function to Create the Cognite Client, using Interactive Login method\n",
    "    \"\"\"\n",
    "    creds = OAuthInteractive(\n",
    "        authority_url=f\"https://login.microsoftonline.com/{TENANT_ID}\",\n",
    "        client_id=CLIENT_ID,\n",
    "        scopes=[f\"{BASE_URL}/.default\"],\n",
    "    )\n",
    "    cnf = ClientConfig(\n",
    "        client_name=\"my-special-client\", \n",
    "        project=COGNITE_PROJECT, \n",
    "        credentials=creds, \n",
    "        base_url=BASE_URL\n",
    "        )\n",
    "    client = CogniteClient(cnf)\n",
    "    return client"
   ]
  },
  {
   "cell_type": "code",
   "execution_count": null,
   "metadata": {},
   "outputs": [],
   "source": [
    "def device_code_client():\n",
    "    \"\"\"Function to Create the Cognite Client, using Device code method\n",
    "    \"\"\"\n",
    "    creds = OAuthDeviceCode(\n",
    "        authority_url=f\"https://login.microsoftonline.com/{TENANT_ID}\",\n",
    "        client_id=CLIENT_ID,\n",
    "        scopes=[f\"{BASE_URL}/.default\"],\n",
    "    )\n",
    "    cnf = ClientConfig(\n",
    "        client_name=\"my-special-client\", \n",
    "        project=COGNITE_PROJECT, \n",
    "        credentials=creds, \n",
    "        base_url=BASE_URL\n",
    "        )\n",
    "    client = CogniteClient(cnf)\n",
    "    return client"
   ]
  },
  {
   "cell_type": "code",
   "execution_count": null,
   "metadata": {},
   "outputs": [],
   "source": [
    "\n",
    "def client_secret_client():\n",
    "    \"\"\"Function to Create the Cognite Client, using Credentials (e.g. ClientID, Client secret)\n",
    "    \"\"\"\n",
    "    creds = OAuthClientCredentials(\n",
    "    token_url=TOKEN_URL, \n",
    "    client_id=CLIENT_ID, \n",
    "    client_secret=CLIENT_SECRET, \n",
    "    scopes=SCOPES\n",
    "    )\n",
    "\n",
    "    cnf = ClientConfig(\n",
    "      client_name=\"custom-client-name\", \n",
    "      project=COGNITE_PROJECT, \n",
    "      credentials=creds,\n",
    "      base_url=BASE_URL\n",
    "      )\n",
    "    client = CogniteClient(cnf)\n",
    "    return client "
   ]
  },
  {
   "cell_type": "markdown",
   "metadata": {},
   "source": [
    "Finally create a wrapper function to create the cognite client, which takes method as the argument."
   ]
  },
  {
   "cell_type": "code",
   "execution_count": null,
   "metadata": {},
   "outputs": [],
   "source": [
    "def create_cognite_client(method=\"interactive-login\") -> CogniteClient:\n",
    "    \"\"\"Function to Create the Client\n",
    "\n",
    "    Args:\n",
    "        method (str, optional): One of the methods (\"interactive-login\",\"device-code\",\"client-secret\"). Defaults to \"interactive-login\".\n",
    "\n",
    "    Returns:\n",
    "        CogniteClient: CogniteClient to be used to access Cognite Data Fusion.\n",
    "    \"\"\"\n",
    "    if method==\"interactive-login\":\n",
    "        client = interactive_client()\n",
    "    elif method==\"device-code\":\n",
    "        client = device_code_client()\n",
    "    elif method==\"client-secret\":\n",
    "        client = client_secret_client()\n",
    "    else:\n",
    "        client = None\n",
    "        print(\"Client couldn't be created. Specify one of these methods :interactive-login, device-code, client-secret\")\n",
    "    return client\n"
   ]
  },
  {
   "cell_type": "markdown",
   "metadata": {},
   "source": [
    "Finally let's test these methods"
   ]
  },
  {
   "cell_type": "code",
   "execution_count": null,
   "metadata": {},
   "outputs": [],
   "source": [
    "c = create_cognite_client(method=\"interactive-login\")"
   ]
  },
  {
   "cell_type": "code",
   "execution_count": null,
   "metadata": {},
   "outputs": [],
   "source": [
    "c = create_cognite_client(method=\"device-code\")"
   ]
  },
  {
   "cell_type": "code",
   "execution_count": null,
   "metadata": {},
   "outputs": [],
   "source": [
    "c = create_cognite_client(method=\"client-secret\")"
   ]
  },
  {
   "cell_type": "markdown",
   "metadata": {},
   "source": [
    "## Check Login Status"
   ]
  },
  {
   "cell_type": "code",
   "execution_count": null,
   "metadata": {},
   "outputs": [],
   "source": [
    "c.iam.token.inspect()"
   ]
  }
 ],
 "metadata": {
  "kernelspec": {
   "display_name": "Python 3",
   "language": "python",
   "name": "python3"
  },
  "language_info": {
   "codemirror_mode": {
    "name": "ipython",
    "version": 3
   },
   "file_extension": ".py",
   "mimetype": "text/x-python",
   "name": "python",
   "nbconvert_exporter": "python",
   "pygments_lexer": "ipython3",
   "version": "3.10.7"
  },
  "orig_nbformat": 4,
  "vscode": {
   "interpreter": {
    "hash": "68aa26314eca5340f6039664dae0b47e76372e28645996c9e7ee90e629518123"
   }
  }
 },
 "nbformat": 4,
 "nbformat_minor": 2
}
