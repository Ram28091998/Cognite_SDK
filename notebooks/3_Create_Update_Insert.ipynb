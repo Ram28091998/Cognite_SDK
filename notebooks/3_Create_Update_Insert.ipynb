{
 "cells": [
  {
   "cell_type": "markdown",
   "metadata": {},
   "source": [
    "# Copyright 2022 Cognite AS\n",
    "\n",
    "## Import the Libraries and Modules"
   ]
  },
  {
   "cell_type": "code",
   "execution_count": null,
   "metadata": {},
   "outputs": [],
   "source": [
    "import os\n",
    "import sys"
   ]
  },
  {
   "cell_type": "code",
   "execution_count": null,
   "metadata": {},
   "outputs": [],
   "source": [
    "module_path = os.path.abspath(os.path.join(\"../utils\"))\n",
    "print(module_path)\n",
    "if module_path not in sys.path:\n",
    "    sys.path.append(module_path)"
   ]
  },
  {
   "cell_type": "code",
   "execution_count": null,
   "metadata": {},
   "outputs": [],
   "source": [
    "import auth as cauth"
   ]
  },
  {
   "cell_type": "markdown",
   "metadata": {},
   "source": [
    "## Create the Cognite Client"
   ]
  },
  {
   "cell_type": "code",
   "execution_count": null,
   "metadata": {},
   "outputs": [],
   "source": [
    "c = cauth.create_cognite_client()"
   ]
  },
  {
   "cell_type": "markdown",
   "metadata": {
    "id": "s5iBkw997VV3"
   },
   "source": [
    "## Create various resource types"
   ]
  },
  {
   "cell_type": "markdown",
   "metadata": {
    "id": "2JHlYHDhEBMk"
   },
   "source": [
    "Create timeseries, datasets, labels, events etc.\n",
    "\n",
    "**Code Pattern**\n",
    "\n",
    "`client.<cdf_resource_type>.create()`"
   ]
  },
  {
   "cell_type": "markdown",
   "metadata": {
    "id": "D0XyKdNAEaMt"
   },
   "source": [
    "Dataset"
   ]
  },
  {
   "cell_type": "code",
   "execution_count": null,
   "metadata": {
    "id": "qPRljoPOECO8"
   },
   "outputs": [],
   "source": [
    "from cognite.client.data_classes import DataSet"
   ]
  },
  {
   "cell_type": "code",
   "execution_count": null,
   "metadata": {},
   "outputs": [],
   "source": [
    "c.data_sets.list()"
   ]
  },
  {
   "cell_type": "code",
   "execution_count": null,
   "metadata": {},
   "outputs": [],
   "source": [
    "res = c.data_sets.create([DataSet(name=\"my_example_dataset\",external_id=\"my_example_dataset\")])\n",
    "res"
   ]
  },
  {
   "cell_type": "code",
   "execution_count": null,
   "metadata": {},
   "outputs": [],
   "source": [
    "test_ds_id = 1399248851345249"
   ]
  },
  {
   "cell_type": "markdown",
   "metadata": {
    "id": "9v6_yKkOEcqV"
   },
   "source": [
    "Labels"
   ]
  },
  {
   "cell_type": "code",
   "execution_count": null,
   "metadata": {
    "id": "TB2QTqxIEZEl"
   },
   "outputs": [],
   "source": [
    "from cognite.client.data_classes import LabelDefinition\n",
    "labels = [LabelDefinition(external_id=\"ROTATING_EQUIPMENT\", name=\"Rotating equipment\",data_set_id=test_ds_id),\n",
    "LabelDefinition(external_id=\"PUMP\", name=\"pump\",data_set_id=test_ds_id)]\n",
    "res = c.labels.create(labels)"
   ]
  },
  {
   "cell_type": "code",
   "execution_count": null,
   "metadata": {},
   "outputs": [],
   "source": [
    "c.labels.list()"
   ]
  },
  {
   "cell_type": "markdown",
   "metadata": {
    "id": "OSXRtveaEfVA"
   },
   "source": [
    "Assets"
   ]
  },
  {
   "cell_type": "code",
   "execution_count": null,
   "metadata": {
    "id": "IxX1n5WAEg_n"
   },
   "outputs": [],
   "source": [
    "from cognite.client.data_classes import Asset\n",
    "assets = [Asset(name=\"asset1\",external_id=\"asset1\",data_set_id=test_ds_id), \n",
    "            Asset(name=\"asset2\",external_id=\"asset2\",data_set_id=test_ds_id)]\n",
    "res = c.assets.create(assets)"
   ]
  },
  {
   "cell_type": "code",
   "execution_count": null,
   "metadata": {},
   "outputs": [],
   "source": [
    "c.assets.list(data_set_ids=[test_ds_id])"
   ]
  },
  {
   "cell_type": "markdown",
   "metadata": {
    "id": "YAsozuRdExtm"
   },
   "source": [
    "Timeseries"
   ]
  },
  {
   "cell_type": "code",
   "execution_count": null,
   "metadata": {
    "id": "gToz_Q_KEzZv"
   },
   "outputs": [],
   "source": [
    "from cognite.client.data_classes import TimeSeries\n",
    "ts = c.time_series.create(TimeSeries(name=\"my_ts\",external_id = \"my_ts\",data_set_id=test_ds_id ))"
   ]
  },
  {
   "cell_type": "code",
   "execution_count": null,
   "metadata": {},
   "outputs": [],
   "source": [
    "ts"
   ]
  },
  {
   "cell_type": "markdown",
   "metadata": {
    "id": "iJ_789Q0E5H6"
   },
   "source": [
    "Sequences"
   ]
  },
  {
   "cell_type": "code",
   "execution_count": null,
   "metadata": {
    "id": "hSh2ng1uE66C"
   },
   "outputs": [],
   "source": [
    "from cognite.client.data_classes import Sequence\n",
    "column_def = [{\"valueType\":\"STRING\",\"externalId\":\"user\",\"description\":\"some description\"},\n",
    "             {\"valueType\":\"DOUBLE\",\"externalId\":\"amount\"}]\n",
    "seq = c.sequences.create(Sequence(external_id=\"my_test_sequence\",name=\"my test sequence\", columns=column_def,data_set_id=test_ds_id ))"
   ]
  },
  {
   "cell_type": "markdown",
   "metadata": {
    "id": "P5P3tbMGE-FL"
   },
   "source": [
    "Files metadata"
   ]
  },
  {
   "cell_type": "code",
   "execution_count": null,
   "metadata": {
    "id": "SLpIHuY9FAaa"
   },
   "outputs": [],
   "source": [
    "from cognite.client.data_classes import FileMetadata\n",
    "file_metadata = FileMetadata(name=\"MyFile\",external_id=\"my_file\",data_set_id=test_ds_id)\n",
    "res = c.files.create(file_metadata)"
   ]
  },
  {
   "cell_type": "code",
   "execution_count": null,
   "metadata": {},
   "outputs": [],
   "source": [
    "res"
   ]
  },
  {
   "cell_type": "markdown",
   "metadata": {
    "id": "d9RvuDbUFJEf"
   },
   "source": [
    "Relationships"
   ]
  },
  {
   "cell_type": "code",
   "execution_count": null,
   "metadata": {
    "id": "zi28eza0FHv0"
   },
   "outputs": [],
   "source": [
    "from cognite.client.data_classes import Relationship\n",
    "flowrel1 = Relationship(external_id=\"flow_12_test\", source_external_id=\"asset1\", source_type=\"asset\", target_external_id=\"asset2\", target_type=\"asset\", confidence=0.1, data_set_id=test_ds_id)\n",
    "flowrel2 = Relationship(external_id=\"flow_21_test\", source_external_id=\"asset2\", source_type=\"asset\", target_external_id=\"asset1\", target_type=\"asset\", confidence=0.1, data_set_id=test_ds_id)\n",
    "res = c.relationships.create([flowrel1,flowrel2])"
   ]
  },
  {
   "cell_type": "code",
   "execution_count": null,
   "metadata": {},
   "outputs": [],
   "source": [
    "c.relationships.list()"
   ]
  },
  {
   "cell_type": "markdown",
   "metadata": {
    "id": "4m3pmjlFFRAT"
   },
   "source": [
    "Create Asset with Labels"
   ]
  },
  {
   "cell_type": "code",
   "execution_count": null,
   "metadata": {
    "id": "nW5H27-fFUYA"
   },
   "outputs": [],
   "source": [
    "from cognite.client.data_classes import Label\n",
    "asset = Asset(name=\"my_test_pump\", labels=[Label(external_id=\"PUMP\")],data_set_id=test_ds_id)\n",
    "res = c.assets.create(asset)"
   ]
  },
  {
   "cell_type": "code",
   "execution_count": null,
   "metadata": {},
   "outputs": [],
   "source": [
    "res"
   ]
  },
  {
   "cell_type": "markdown",
   "metadata": {
    "id": "yoFhiwAPFVT5"
   },
   "source": [
    "Create Asset Hierarchy"
   ]
  },
  {
   "cell_type": "code",
   "execution_count": null,
   "metadata": {
    "id": "r1E317kKFZD0"
   },
   "outputs": [],
   "source": [
    "assets_list = [Asset(external_id=\"root\", name=\"Root\",data_set_id=test_ds_id),\n",
    "          Asset(external_id=\"child1\", parent_external_id=\"root\", name=\"child1\",data_set_id=test_ds_id), \n",
    "          Asset(external_id=\"child2\", parent_external_id=\"root\", name=\"child2\",data_set_id=test_ds_id),\n",
    "          Asset(external_id=\"child_of_child1\", parent_external_id=\"child1\", name=\"child_of_child1\",data_set_id=test_ds_id)]\n",
    "res = c.assets.create_hierarchy(assets_list)"
   ]
  },
  {
   "cell_type": "code",
   "execution_count": null,
   "metadata": {},
   "outputs": [],
   "source": [
    "c.assets.retrieve_subtree(external_id=\"root\")"
   ]
  },
  {
   "cell_type": "markdown",
   "metadata": {
    "id": "WXcxf0tRD7QA"
   },
   "source": [
    "Upload files and folders"
   ]
  },
  {
   "cell_type": "markdown",
   "metadata": {
    "id": "N6zX9EUpFh1I"
   },
   "source": [
    "Single file"
   ]
  },
  {
   "cell_type": "code",
   "execution_count": null,
   "metadata": {
    "id": "m67K6Gje7YH-"
   },
   "outputs": [],
   "source": [
    "res = c.files.upload(\"myfiles\", name=\"my_file_test1.txt\")"
   ]
  },
  {
   "cell_type": "code",
   "execution_count": null,
   "metadata": {},
   "outputs": [],
   "source": [
    "c.files.list(limit=-1)"
   ]
  },
  {
   "cell_type": "markdown",
   "metadata": {
    "id": "d90z2N9xFkJO"
   },
   "source": [
    "All files in a directory"
   ]
  },
  {
   "cell_type": "code",
   "execution_count": null,
   "metadata": {
    "id": "s_MN2YUlFrWU"
   },
   "outputs": [],
   "source": [
    "res = c.files.upload(\"files_to_upload\")"
   ]
  },
  {
   "cell_type": "markdown",
   "metadata": {
    "id": "LAbedXzg7Yjp"
   },
   "source": [
    "## Update various resource types\n",
    "**Code Pattern**\n",
    "\n",
    "`client.<cdf_resource_type>.update()`"
   ]
  },
  {
   "cell_type": "markdown",
   "metadata": {
    "id": "H9Ch_ASeHbsA"
   },
   "source": [
    "Full Update"
   ]
  },
  {
   "cell_type": "code",
   "execution_count": null,
   "metadata": {},
   "outputs": [],
   "source": [
    "c.data_sets.list()"
   ]
  },
  {
   "cell_type": "code",
   "execution_count": null,
   "metadata": {
    "id": "ZMu5NAur7cRL"
   },
   "outputs": [],
   "source": [
    "data_set = c.data_sets.retrieve(id=1399248851345249)\n",
    "data_set"
   ]
  },
  {
   "cell_type": "code",
   "execution_count": null,
   "metadata": {},
   "outputs": [],
   "source": [
    "data_set.description = \"This is a Example Dataset\"\n",
    "res = c.data_sets.update(data_set)"
   ]
  },
  {
   "cell_type": "code",
   "execution_count": null,
   "metadata": {},
   "outputs": [],
   "source": [
    "res"
   ]
  },
  {
   "cell_type": "markdown",
   "metadata": {
    "id": "wefIF0aeHdit"
   },
   "source": [
    "Partial Update"
   ]
  },
  {
   "cell_type": "code",
   "execution_count": null,
   "metadata": {
    "id": "I26R9-9pHfuj"
   },
   "outputs": [],
   "source": [
    "from cognite.client.data_classes import DataSetUpdate\n",
    "my_update = DataSetUpdate(id=1399248851345249).description.set(\"New description with Partial Update\")#.metadata.remove([\"key\"])\n",
    "res = c.data_sets.update(my_update)"
   ]
  },
  {
   "cell_type": "code",
   "execution_count": null,
   "metadata": {},
   "outputs": [],
   "source": [
    "res"
   ]
  },
  {
   "cell_type": "code",
   "execution_count": null,
   "metadata": {},
   "outputs": [],
   "source": [
    "c.assets.list(root=True)"
   ]
  },
  {
   "cell_type": "code",
   "execution_count": null,
   "metadata": {
    "id": "bYnVwVIjGuRV"
   },
   "outputs": [],
   "source": [
    "from cognite.client.data_classes import AssetUpdate\n",
    "my_update = AssetUpdate(external_id=\"asset1\").description.set(\"New description using AssetUpdate\")#.metadata.add({\"key\": \"value\"})\n",
    "res1 = c.assets.update(my_update)"
   ]
  },
  {
   "cell_type": "code",
   "execution_count": null,
   "metadata": {},
   "outputs": [],
   "source": [
    "res1"
   ]
  },
  {
   "cell_type": "markdown",
   "metadata": {
    "id": "xp9DoF0aHtUW"
   },
   "source": [
    "Partial Update"
   ]
  },
  {
   "cell_type": "code",
   "execution_count": null,
   "metadata": {
    "id": "R4_TYNeaHvlU"
   },
   "outputs": [],
   "source": [
    "another_update = AssetUpdate(id=1).description.set(None)\n",
    "res2 = c.assets.update(another_update)"
   ]
  },
  {
   "cell_type": "markdown",
   "metadata": {
    "id": "70cp7y_RHwu5"
   },
   "source": [
    "\n",
    "\n",
    "---\n",
    "\n"
   ]
  },
  {
   "cell_type": "code",
   "execution_count": null,
   "metadata": {
    "id": "b5a2fR3JGxmx"
   },
   "outputs": [],
   "source": [
    "res = c.time_series.retrieve(id=1)\n",
    "res.description = \"New description\"\n",
    "res = c.time_series.update(res)"
   ]
  },
  {
   "cell_type": "code",
   "execution_count": null,
   "metadata": {
    "id": "4df_7WhGG27O"
   },
   "outputs": [],
   "source": [
    "res = c.sequences.retrieve(id=1)\n",
    "res.description = \"New description\"\n",
    "res = c.sequences.update(res)"
   ]
  },
  {
   "cell_type": "code",
   "execution_count": null,
   "metadata": {
    "id": "AlANsJhoHMgE"
   },
   "outputs": [],
   "source": [
    "event = c.events.retrieve(id=1)\n",
    "event.description = \"New description\"\n",
    "res = c.events.update(event)"
   ]
  },
  {
   "cell_type": "code",
   "execution_count": null,
   "metadata": {
    "id": "TpyF2wUCHNT6"
   },
   "outputs": [],
   "source": [
    "file_metadata = c.files.retrieve(id=1)\n",
    "file_metadata.description = \"New description\"\n",
    "res = c.files.update(file_metadata)"
   ]
  },
  {
   "cell_type": "code",
   "execution_count": null,
   "metadata": {
    "id": "FwnmBJ5ZHRpk"
   },
   "outputs": [],
   "source": [
    "rel = c.relationships.retrieve(external_id=\"flow1\")\n",
    "rel.confidence = 0.75\n",
    "res = c.relationships.update(rel)"
   ]
  },
  {
   "cell_type": "markdown",
   "metadata": {
    "id": "fuz3rX3c7c3a"
   },
   "source": [
    "## Insert the data in CDF\n",
    "\n",
    "**Code Pattern**\n",
    "`client.<cdf_resource_type>.insert()`"
   ]
  },
  {
   "cell_type": "markdown",
   "metadata": {
    "id": "Mu66W_NUILWr"
   },
   "source": [
    "### Insert the Datapoints/Rows"
   ]
  },
  {
   "cell_type": "code",
   "execution_count": null,
   "metadata": {},
   "outputs": [],
   "source": [
    "c.time_series.list(external_id_prefix=\"my_\")"
   ]
  },
  {
   "cell_type": "code",
   "execution_count": null,
   "metadata": {
    "id": "Ku70KLW97gX6"
   },
   "outputs": [],
   "source": [
    "from datetime import datetime\n",
    "# with datetime objects\n",
    "datapoints = [(datetime(2018,1,1), 1000), (datetime(2018,1,2), 2000)]\n",
    "c.datapoints.insert(datapoints, id=5258405260776053)"
   ]
  },
  {
   "cell_type": "code",
   "execution_count": null,
   "metadata": {},
   "outputs": [],
   "source": [
    "# with ms since epoch\n",
    "datapoints = [(150000000000, 1000), (160000000000, 2000)]\n",
    "c.datapoints.insert(datapoints, id=5258405260776053)"
   ]
  },
  {
   "cell_type": "code",
   "execution_count": null,
   "metadata": {},
   "outputs": [],
   "source": [
    "c.datapoints.retrieve(external_id=\"my_ts\",start=datetime(2018,1,1),end=datetime(2019,1,2))"
   ]
  },
  {
   "cell_type": "code",
   "execution_count": null,
   "metadata": {},
   "outputs": [],
   "source": [
    "c.sequences.list()"
   ]
  },
  {
   "cell_type": "code",
   "execution_count": null,
   "metadata": {},
   "outputs": [],
   "source": [
    "c.sequences.retrieve(id=2357839693666680).columns"
   ]
  },
  {
   "cell_type": "code",
   "execution_count": null,
   "metadata": {
    "id": "VUjB8J6EIzMO"
   },
   "outputs": [],
   "source": [
    "data = [(1, ['user1',3.14]), (2, ['user2',2.72]) ]\n",
    "c.sequences.data.insert(column_external_ids=[\"user\",\"amount\"], rows=data, id=2357839693666680)"
   ]
  },
  {
   "cell_type": "code",
   "execution_count": null,
   "metadata": {},
   "outputs": [],
   "source": [
    "c.sequences.data.retrieve_dataframe(id=2357839693666680,start=0,end=100)"
   ]
  },
  {
   "cell_type": "markdown",
   "metadata": {
    "id": "Db5IlvxWIQoS"
   },
   "source": [
    "### Insert the Dataframe"
   ]
  },
  {
   "cell_type": "code",
   "execution_count": null,
   "metadata": {},
   "outputs": [],
   "source": [
    "import pandas as pd\n",
    "from datetime import timedelta\n",
    "import numpy as np"
   ]
  },
  {
   "cell_type": "code",
   "execution_count": null,
   "metadata": {
    "id": "2WChF6E_ISyR"
   },
   "outputs": [],
   "source": [
    "ts_id = 5258405260776053\n",
    "x = pd.DatetimeIndex([datetime(2018, 1, 1) + timedelta(days=d) for d in range(100)])\n",
    "y = np.random.normal(0, 1, 100)\n",
    "df = pd.DataFrame({ts_id: y}, index=x)\n",
    "df"
   ]
  },
  {
   "cell_type": "code",
   "execution_count": null,
   "metadata": {},
   "outputs": [],
   "source": [
    "c.datapoints.insert_dataframe(df)"
   ]
  },
  {
   "cell_type": "code",
   "execution_count": null,
   "metadata": {
    "id": "Ju01ddLaI2-e"
   },
   "outputs": [],
   "source": [
    "c.sequences.data.insert_dataframe(df*2, id=123)"
   ]
  },
  {
   "cell_type": "markdown",
   "metadata": {
    "id": "3een2tF-ITFC"
   },
   "source": [
    "### Insert the datapoints in multiple timeseries"
   ]
  },
  {
   "cell_type": "code",
   "execution_count": null,
   "metadata": {
    "id": "s214LAs1IT48"
   },
   "outputs": [],
   "source": [
    "datapoints = []\n",
    "# with datetime objects and id\n",
    "datapoints.append({\"id\": 1, \"datapoints\": [(datetime(2018,1,1), 1000), (datetime(2018,1,2), 2000)]})\n",
    "# with ms since epoch and externalId\n",
    "datapoints.append({\"externalId\": \"my_ts\", \"datapoints\": [(150000000000, 1000), (160000000000, 2000)]})\n",
    "datapoints"
   ]
  },
  {
   "cell_type": "code",
   "execution_count": null,
   "metadata": {},
   "outputs": [],
   "source": [
    "c.datapoints.insert_multiple(datapoints)"
   ]
  }
 ],
 "metadata": {
  "kernelspec": {
   "display_name": "Python 3.11.0 64-bit ('3.11.0')",
   "language": "python",
   "name": "python3"
  },
  "language_info": {
   "codemirror_mode": {
    "name": "ipython",
    "version": 3
   },
   "file_extension": ".py",
   "mimetype": "text/x-python",
   "name": "python",
   "nbconvert_exporter": "python",
   "pygments_lexer": "ipython3",
   "version": "3.11.0"
  },
  "vscode": {
   "interpreter": {
    "hash": "9cf1fb255dd525513d3414a7306bcfc6ddbf732d5fdca85304256d3b397677bf"
   }
  }
 },
 "nbformat": 4,
 "nbformat_minor": 2
}
